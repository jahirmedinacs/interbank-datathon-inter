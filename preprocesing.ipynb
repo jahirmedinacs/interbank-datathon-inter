{
 "cells": [
  {
   "cell_type": "code",
   "execution_count": 1,
   "metadata": {},
   "outputs": [],
   "source": [
    "import pandas as pd\n",
    "import numpy as np\n",
    "import seaborn as sns\n",
    "import matplotlib.pyplot as plt\n",
    "from sklearn.preprocessing import OneHotEncoder,LabelEncoder"
   ]
  },
  {
   "cell_type": "code",
   "execution_count": 131,
   "metadata": {},
   "outputs": [],
   "source": [
    "train = pd.read_csv('ib_base_inicial_train.csv')\n",
    "test = pd.read_csv('ib_base_inicial_test.csv')"
   ]
  },
  {
   "cell_type": "code",
   "execution_count": 132,
   "metadata": {},
   "outputs": [
    {
     "data": {
      "text/plain": [
       "((212665, 9), (178685, 6))"
      ]
     },
     "execution_count": 132,
     "metadata": {},
     "output_type": "execute_result"
    }
   ],
   "source": [
    "train.shape, test.shape"
   ]
  },
  {
   "cell_type": "code",
   "execution_count": 14,
   "metadata": {
    "collapsed": true
   },
   "outputs": [
    {
     "data": {
      "text/plain": [
       "id_persona\n",
       "1         2\n",
       "2         1\n",
       "3         3\n",
       "4         1\n",
       "5         2\n",
       "7         1\n",
       "8         1\n",
       "13        1\n",
       "14        1\n",
       "15        1\n",
       "16        3\n",
       "18        1\n",
       "20        2\n",
       "22        1\n",
       "23        1\n",
       "24        1\n",
       "25        1\n",
       "26        1\n",
       "27        2\n",
       "29        1\n",
       "30        1\n",
       "31        1\n",
       "32        1\n",
       "34        3\n",
       "36        1\n",
       "38        1\n",
       "39        1\n",
       "40        1\n",
       "41        1\n",
       "42        1\n",
       "         ..\n",
       "256336    1\n",
       "256339    2\n",
       "256340    1\n",
       "256341    1\n",
       "256344    1\n",
       "256345    1\n",
       "256346    2\n",
       "256347    1\n",
       "256349    2\n",
       "256351    1\n",
       "256352    1\n",
       "256353    1\n",
       "256354    1\n",
       "256356    1\n",
       "256358    4\n",
       "256359    2\n",
       "256361    1\n",
       "256363    3\n",
       "256364    1\n",
       "256365    2\n",
       "256366    1\n",
       "256367    1\n",
       "256368    1\n",
       "256369    1\n",
       "256370    1\n",
       "256371    2\n",
       "256372    1\n",
       "256373    1\n",
       "256374    2\n",
       "256375    1\n",
       "Name: codmes, Length: 165854, dtype: int64"
      ]
     },
     "execution_count": 14,
     "metadata": {},
     "output_type": "execute_result"
    }
   ],
   "source": [
    "train.groupby(\"id_persona\").codmes.size()"
   ]
  },
  {
   "cell_type": "code",
   "execution_count": 15,
   "metadata": {
    "collapsed": true
   },
   "outputs": [
    {
     "data": {
      "text/plain": [
       "id_persona\n",
       "1         1\n",
       "4         2\n",
       "6         1\n",
       "7         1\n",
       "8         1\n",
       "9         2\n",
       "10        1\n",
       "11        1\n",
       "12        1\n",
       "13        1\n",
       "16        1\n",
       "17        2\n",
       "19        1\n",
       "20        3\n",
       "21        1\n",
       "25        1\n",
       "26        1\n",
       "28        2\n",
       "33        1\n",
       "35        1\n",
       "37        1\n",
       "44        1\n",
       "45        1\n",
       "47        1\n",
       "50        1\n",
       "58        1\n",
       "59        3\n",
       "60        1\n",
       "63        1\n",
       "64        1\n",
       "         ..\n",
       "256314    1\n",
       "256315    1\n",
       "256317    1\n",
       "256318    1\n",
       "256321    2\n",
       "256322    1\n",
       "256324    1\n",
       "256326    1\n",
       "256328    1\n",
       "256330    1\n",
       "256331    1\n",
       "256332    2\n",
       "256334    1\n",
       "256335    2\n",
       "256337    1\n",
       "256338    1\n",
       "256339    1\n",
       "256342    2\n",
       "256343    1\n",
       "256348    1\n",
       "256350    1\n",
       "256351    1\n",
       "256355    1\n",
       "256357    1\n",
       "256358    2\n",
       "256360    1\n",
       "256362    1\n",
       "256365    2\n",
       "256371    1\n",
       "256375    1\n",
       "Name: codmes, Length: 142616, dtype: int64"
      ]
     },
     "execution_count": 15,
     "metadata": {},
     "output_type": "execute_result"
    }
   ],
   "source": [
    "test.groupby(\"id_persona\").codmes.count()"
   ]
  },
  {
   "cell_type": "code",
   "execution_count": 16,
   "metadata": {},
   "outputs": [],
   "source": [
    "#train = train.drop([\"codtarget\", \"margen\"], axis=1)"
   ]
  },
  {
   "cell_type": "code",
   "execution_count": 3,
   "metadata": {},
   "outputs": [
    {
     "name": "stdout",
     "output_type": "stream",
     "text": [
      "   codmes  id_persona  codtarget  margen    cem  ingreso_neto  linea_ofrecida\n",
      "0  201901      165747          0   -5.00    1.0        1781.0            1700\n",
      "1  201903      100117          0   -5.00  478.0        2106.0            2100\n",
      "2  201901       65751          1  342.99  687.0        3083.0            4600\n",
      "3  201901       58047          0   -5.00  182.0        1814.0            3600\n",
      "4  201901      113221          0   -5.00  582.0        2153.0            4300\n",
      "Index(['codmes', 'id_persona', 'codtarget', 'margen', 'cem', 'ingreso_neto',\n",
      "       'linea_ofrecida', 'prediction_id'],\n",
      "      dtype='object')\n"
     ]
    }
   ],
   "source": [
    "print(train.head())\n",
    "train[\"prediction_id\"] = train.id_persona.astype(str)+\"_\"+train.codmes.astype(str)\n",
    "print(train.columns)"
   ]
  },
  {
   "cell_type": "code",
   "execution_count": 4,
   "metadata": {},
   "outputs": [
    {
     "name": "stdout",
     "output_type": "stream",
     "text": [
      "% de datos nulos en la base de datos train\n"
     ]
    },
    {
     "data": {
      "text/plain": [
       "codmes            0.0\n",
       "id_persona        0.0\n",
       "codtarget         0.0\n",
       "margen            0.0\n",
       "cem               0.0\n",
       "ingreso_neto      0.0\n",
       "linea_ofrecida    0.0\n",
       "prediction_id     0.0\n",
       "dtype: float64"
      ]
     },
     "execution_count": 4,
     "metadata": {},
     "output_type": "execute_result"
    }
   ],
   "source": [
    "print(\"% de datos nulos en la base de datos train\")\n",
    "train.isnull().sum()/train.shape[0]\n",
    "# no presentamos datos nulos en la base de datos train"
   ]
  },
  {
   "cell_type": "code",
   "execution_count": 5,
   "metadata": {},
   "outputs": [
    {
     "data": {
      "image/png": "[encoded data removed]",
      "text/plain": [
       "<Figure size 1296x576 with 2 Axes>"
      ]
     },
     "metadata": {
      "needs_background": "light"
     },
     "output_type": "display_data"
    }
   ],
   "source": [
    "f,ax=plt.subplots(1,2,figsize=(18,8))\n",
    "train['codtarget'].value_counts().plot.pie(explode=[0,0.1],autopct='%1.1f%%',ax=ax[0],shadow=True)\n",
    "ax[0].set_title('codtarget')\n",
    "ax[0].set_ylabel('')\n",
    "sns.countplot('codtarget',data=train,ax=ax[1])\n",
    "ax[1].set_title('codtarget')\n",
    "plt.show()"
   ]
  },
  {
   "cell_type": "code",
   "execution_count": 6,
   "metadata": {
    "scrolled": false
   },
   "outputs": [
    {
     "data": {
      "text/html": [
       "<div>\n",
       "<style scoped>\n",
       "    .dataframe tbody tr th:only-of-type {\n",
       "        vertical-align: middle;\n",
       "    }\n",
       "\n",
       "    .dataframe tbody tr th {\n",
       "        vertical-align: top;\n",
       "    }\n",
       "\n",
       "    .dataframe thead th {\n",
       "        text-align: right;\n",
       "    }\n",
       "</style>\n",
       "<table border=\"1\" class=\"dataframe\">\n",
       "  <thead>\n",
       "    <tr style=\"text-align: right;\">\n",
       "      <th></th>\n",
       "      <th>codmes</th>\n",
       "      <th>id_persona</th>\n",
       "      <th>codtarget</th>\n",
       "      <th>margen</th>\n",
       "      <th>cem</th>\n",
       "      <th>ingreso_neto</th>\n",
       "      <th>linea_ofrecida</th>\n",
       "    </tr>\n",
       "  </thead>\n",
       "  <tbody>\n",
       "    <tr>\n",
       "      <th>count</th>\n",
       "      <td>212665.000000</td>\n",
       "      <td>212665.000000</td>\n",
       "      <td>212665.000000</td>\n",
       "      <td>212665.000000</td>\n",
       "      <td>212665.000000</td>\n",
       "      <td>212665.000000</td>\n",
       "      <td>212665.000000</td>\n",
       "    </tr>\n",
       "    <tr>\n",
       "      <th>mean</th>\n",
       "      <td>201902.556881</td>\n",
       "      <td>127773.211173</td>\n",
       "      <td>0.145638</td>\n",
       "      <td>7.534526</td>\n",
       "      <td>867.481424</td>\n",
       "      <td>3136.008953</td>\n",
       "      <td>8100.679002</td>\n",
       "    </tr>\n",
       "    <tr>\n",
       "      <th>std</th>\n",
       "      <td>1.149051</td>\n",
       "      <td>73075.565353</td>\n",
       "      <td>0.352743</td>\n",
       "      <td>70.209438</td>\n",
       "      <td>1075.129778</td>\n",
       "      <td>2492.327322</td>\n",
       "      <td>10970.943116</td>\n",
       "    </tr>\n",
       "    <tr>\n",
       "      <th>min</th>\n",
       "      <td>201901.000000</td>\n",
       "      <td>1.000000</td>\n",
       "      <td>0.000000</td>\n",
       "      <td>-728.990000</td>\n",
       "      <td>0.000000</td>\n",
       "      <td>653.000000</td>\n",
       "      <td>700.000000</td>\n",
       "    </tr>\n",
       "    <tr>\n",
       "      <th>25%</th>\n",
       "      <td>201901.000000</td>\n",
       "      <td>63944.000000</td>\n",
       "      <td>0.000000</td>\n",
       "      <td>-5.000000</td>\n",
       "      <td>344.000000</td>\n",
       "      <td>1889.000000</td>\n",
       "      <td>1700.000000</td>\n",
       "    </tr>\n",
       "    <tr>\n",
       "      <th>50%</th>\n",
       "      <td>201903.000000</td>\n",
       "      <td>128109.000000</td>\n",
       "      <td>0.000000</td>\n",
       "      <td>-5.000000</td>\n",
       "      <td>650.000000</td>\n",
       "      <td>2662.000000</td>\n",
       "      <td>4200.000000</td>\n",
       "    </tr>\n",
       "    <tr>\n",
       "      <th>75%</th>\n",
       "      <td>201904.000000</td>\n",
       "      <td>190473.000000</td>\n",
       "      <td>0.000000</td>\n",
       "      <td>-5.000000</td>\n",
       "      <td>1064.000000</td>\n",
       "      <td>3467.000000</td>\n",
       "      <td>9800.000000</td>\n",
       "    </tr>\n",
       "    <tr>\n",
       "      <th>max</th>\n",
       "      <td>201904.000000</td>\n",
       "      <td>256375.000000</td>\n",
       "      <td>1.000000</td>\n",
       "      <td>4687.022200</td>\n",
       "      <td>61709.000000</td>\n",
       "      <td>109531.000000</td>\n",
       "      <td>100000.000000</td>\n",
       "    </tr>\n",
       "  </tbody>\n",
       "</table>\n",
       "</div>"
      ],
      "text/plain": [
       "              codmes     id_persona      codtarget         margen  \\\n",
       "count  212665.000000  212665.000000  212665.000000  212665.000000   \n",
       "mean   201902.556881  127773.211173       0.145638       7.534526   \n",
       "std         1.149051   73075.565353       0.352743      70.209438   \n",
       "min    201901.000000       1.000000       0.000000    -728.990000   \n",
       "25%    201901.000000   63944.000000       0.000000      -5.000000   \n",
       "50%    201903.000000  128109.000000       0.000000      -5.000000   \n",
       "75%    201904.000000  190473.000000       0.000000      -5.000000   \n",
       "max    201904.000000  256375.000000       1.000000    4687.022200   \n",
       "\n",
       "                 cem   ingreso_neto  linea_ofrecida  \n",
       "count  212665.000000  212665.000000   212665.000000  \n",
       "mean      867.481424    3136.008953     8100.679002  \n",
       "std      1075.129778    2492.327322    10970.943116  \n",
       "min         0.000000     653.000000      700.000000  \n",
       "25%       344.000000    1889.000000     1700.000000  \n",
       "50%       650.000000    2662.000000     4200.000000  \n",
       "75%      1064.000000    3467.000000     9800.000000  \n",
       "max     61709.000000  109531.000000   100000.000000  "
      ]
     },
     "execution_count": 6,
     "metadata": {},
     "output_type": "execute_result"
    }
   ],
   "source": [
    "train.describe()"
   ]
  },
  {
   "cell_type": "markdown",
   "metadata": {},
   "source": [
    "Variables con alta variabilidad en cem, ingreso_neto, linea_ofrecida, acotaremos o reduciremos."
   ]
  },
  {
   "cell_type": "code",
   "execution_count": 7,
   "metadata": {},
   "outputs": [
    {
     "data": {
      "text/html": [
       "<div>\n",
       "<style scoped>\n",
       "    .dataframe tbody tr th:only-of-type {\n",
       "        vertical-align: middle;\n",
       "    }\n",
       "\n",
       "    .dataframe tbody tr th {\n",
       "        vertical-align: top;\n",
       "    }\n",
       "\n",
       "    .dataframe thead th {\n",
       "        text-align: right;\n",
       "    }\n",
       "</style>\n",
       "<table border=\"1\" class=\"dataframe\">\n",
       "  <thead>\n",
       "    <tr style=\"text-align: right;\">\n",
       "      <th></th>\n",
       "      <th>count</th>\n",
       "      <th>mean</th>\n",
       "      <th>std</th>\n",
       "      <th>min</th>\n",
       "      <th>25%</th>\n",
       "      <th>50%</th>\n",
       "      <th>75%</th>\n",
       "      <th>max</th>\n",
       "    </tr>\n",
       "    <tr>\n",
       "      <th>codtarget</th>\n",
       "      <th></th>\n",
       "      <th></th>\n",
       "      <th></th>\n",
       "      <th></th>\n",
       "      <th></th>\n",
       "      <th></th>\n",
       "      <th></th>\n",
       "      <th></th>\n",
       "    </tr>\n",
       "  </thead>\n",
       "  <tbody>\n",
       "    <tr>\n",
       "      <th>0</th>\n",
       "      <td>181693.0</td>\n",
       "      <td>-5.000000</td>\n",
       "      <td>0.000000</td>\n",
       "      <td>-5.00</td>\n",
       "      <td>-5.00</td>\n",
       "      <td>-5.00</td>\n",
       "      <td>-5.000000</td>\n",
       "      <td>-5.0000</td>\n",
       "    </tr>\n",
       "    <tr>\n",
       "      <th>1</th>\n",
       "      <td>30972.0</td>\n",
       "      <td>81.066606</td>\n",
       "      <td>165.888168</td>\n",
       "      <td>-728.99</td>\n",
       "      <td>-4.57</td>\n",
       "      <td>26.48</td>\n",
       "      <td>98.779235</td>\n",
       "      <td>4687.0222</td>\n",
       "    </tr>\n",
       "  </tbody>\n",
       "</table>\n",
       "</div>"
      ],
      "text/plain": [
       "              count       mean         std     min   25%    50%        75%  \\\n",
       "codtarget                                                                    \n",
       "0          181693.0  -5.000000    0.000000   -5.00 -5.00  -5.00  -5.000000   \n",
       "1           30972.0  81.066606  165.888168 -728.99 -4.57  26.48  98.779235   \n",
       "\n",
       "                 max  \n",
       "codtarget             \n",
       "0            -5.0000  \n",
       "1          4687.0222  "
      ]
     },
     "execution_count": 7,
     "metadata": {},
     "output_type": "execute_result"
    }
   ],
   "source": [
    "train.groupby(\"codtarget\").margen.describe()"
   ]
  },
  {
   "cell_type": "markdown",
   "metadata": {},
   "source": [
    "Tenemos perdida aun siendo codtarget (X=1) con respecto al Margen, se definirá una nueva target, podemos realizar una clasificación o un problema de regresión con excesos de ceros."
   ]
  },
  {
   "cell_type": "code",
   "execution_count": 8,
   "metadata": {
    "scrolled": true
   },
   "outputs": [
    {
     "data": {
      "image/png": "[encoded data removed]",
      "text/plain": [
       "<Figure size 1440x720 with 2 Axes>"
      ]
     },
     "metadata": {
      "needs_background": "light"
     },
     "output_type": "display_data"
    }
   ],
   "source": [
    "f,ax=plt.subplots(1,2,figsize=(20,10))\n",
    "train[train['codtarget']==0].margen.plot.hist(ax=ax[0],edgecolor='blue',color='red')\n",
    "ax[0].set_title('codtarget= 0')\n",
    "train[train['codtarget']==1].margen.plot.hist(ax=ax[1],bins=30,color='green',edgecolor='black')\n",
    "ax[1].set_title('codtarget= 1')\n",
    "plt.show()"
   ]
  },
  {
   "cell_type": "markdown",
   "metadata": {},
   "source": [
    "# Definiendo la variable target=margen>0"
   ]
  },
  {
   "cell_type": "code",
   "execution_count": 4,
   "metadata": {},
   "outputs": [
    {
     "data": {
      "image/png": "[encoded data removed]",
      "text/plain": [
       "<Figure size 1440x720 with 2 Axes>"
      ]
     },
     "metadata": {
      "needs_background": "light"
     },
     "output_type": "display_data"
    }
   ],
   "source": [
    "f,ax = plt.subplots(1,2,figsize=(20,10))\n",
    "(train['margen']>0).value_counts().plot.pie(explode=[0,0.1],autopct='%1.1f%%',ax=ax[0],shadow=True)\n",
    "ax[0].set_title('Margen positivo')\n",
    "train.margen.plot.hist(ax=ax[1],bins=40,color='green')\n",
    "ax[1].set_title('Histograma del Margen')\n",
    "plt.show()\n"
   ]
  },
  {
   "cell_type": "code",
   "execution_count": 132,
   "metadata": {
    "scrolled": true
   },
   "outputs": [
    {
     "name": "stdout",
     "output_type": "stream",
     "text": [
      "Se definió la variable target\n"
     ]
    }
   ],
   "source": [
    "train['target'] = (train['margen']>0).astype(int)\n",
    "print(\"Se definió la variable target\")"
   ]
  },
  {
   "cell_type": "code",
   "execution_count": 5,
   "metadata": {},
   "outputs": [],
   "source": [
    "import math \n",
    "test[\"cem\"]=(test.cem-train.cem.mean())/math.sqrt(train.cem.var())\n",
    "test[\"ingreso_neto\"]=(test.ingreso_neto-train.ingreso_neto.mean())/math.sqrt(train.ingreso_neto.var())\n",
    "test[\"linea_ofrecida\"]=(test.linea_ofrecida-train.linea_ofrecida.mean())/math.sqrt(train.linea_ofrecida.var())\n",
    "\n",
    "train[\"cem\"]=(train.cem-train.cem.mean())/math.sqrt(train.cem.var())\n",
    "train[\"ingreso_neto\"]=(train.ingreso_neto-train.ingreso_neto.mean())/math.sqrt(train.ingreso_neto.var())\n",
    "train[\"linea_ofrecida\"]=(train.linea_ofrecida-train.linea_ofrecida.mean())/math.sqrt(train.linea_ofrecida.var())\n",
    "\n",
    "#ingreso_neto linea_ofrecida"
   ]
  },
  {
   "cell_type": "markdown",
   "metadata": {},
   "source": [
    "# Analizando las demás datasets y creando nuevas variables\n"
   ]
  },
  {
   "cell_type": "markdown",
   "metadata": {},
   "source": [
    "La idea es analizar los demás datasets, para ello empezaremos con:\n",
    "1... digital\n"
   ]
  },
  {
   "cell_type": "code",
   "execution_count": 5,
   "metadata": {},
   "outputs": [
    {
     "data": {
      "text/plain": [
       "(171728, 33)"
      ]
     },
     "execution_count": 5,
     "metadata": {},
     "output_type": "execute_result"
    }
   ],
   "source": [
    "digital = pd.read_csv(\"ib_base_digital.csv\")\n",
    "digital.shape"
   ]
  },
  {
   "cell_type": "code",
   "execution_count": 13,
   "metadata": {
    "scrolled": true
   },
   "outputs": [
    {
     "name": "stdout",
     "output_type": "stream",
     "text": [
      "Porcentaje de datos nulos en digital\n"
     ]
    },
    {
     "data": {
      "text/plain": [
       "codday            0.000000\n",
       "id_persona        0.000000\n",
       "simu_prestamo     0.000856\n",
       "benefit           0.000000\n",
       "email             0.000000\n",
       "facebook          0.000000\n",
       "goog              0.000000\n",
       "youtb             0.000000\n",
       "compb             0.000000\n",
       "movil             0.000000\n",
       "desktop           0.000000\n",
       "n_rep30           0.000000\n",
       "recencia          0.010039\n",
       "lima_dig          0.000000\n",
       "provincia_dig     0.000000\n",
       "extranjero_dig    0.000000\n",
       "time_ctasimple    0.000745\n",
       "time_mllp         0.000000\n",
       "time_mllst        0.000000\n",
       "time_ctasld       0.000000\n",
       "time_tc           0.000000\n",
       "n_sesion          0.000000\n",
       "busqtc            0.000000\n",
       "busqvisa          0.000000\n",
       "busqamex          0.000000\n",
       "busqmc            0.000000\n",
       "busqcsimp         0.000000\n",
       "busqmill          0.000000\n",
       "busqcsld          0.000000\n",
       "busq              0.000000\n",
       "n_pag             0.000000\n",
       "android           0.534892\n",
       "iphone            0.951155\n",
       "dtype: float64"
      ]
     },
     "execution_count": 13,
     "metadata": {},
     "output_type": "execute_result"
    }
   ],
   "source": [
    "print(\"Porcentaje de datos nulos o missing en digital\")\n",
    "digital.isnull().sum()/digital.shape[0]"
   ]
  },
  {
   "cell_type": "code",
   "execution_count": 97,
   "metadata": {},
   "outputs": [
    {
     "data": {
      "text/plain": [
       "count    171728.000000\n",
       "mean     133725.548414\n",
       "std       75567.357423\n",
       "min          20.000000\n",
       "25%       59623.000000\n",
       "50%      139234.000000\n",
       "75%      200894.000000\n",
       "max      256375.000000\n",
       "Name: id_persona, dtype: float64"
      ]
     },
     "execution_count": 97,
     "metadata": {},
     "output_type": "execute_result"
    }
   ],
   "source": [
    "digital.id_persona.describe()"
   ]
  },
  {
   "cell_type": "code",
   "execution_count": 6,
   "metadata": {},
   "outputs": [
    {
     "name": "stdout",
     "output_type": "stream",
     "text": [
      "Index(['codday', 'id_persona', 'simu_prestamo', 'benefit', 'email', 'facebook',\n",
      "       'goog', 'youtb', 'compb', 'movil', 'desktop', 'n_rep30', 'recencia',\n",
      "       'lima_dig', 'provincia_dig', 'extranjero_dig', 'time_ctasimple',\n",
      "       'time_mllp', 'time_mllst', 'time_ctasld', 'time_tc', 'n_sesion',\n",
      "       'busqtc', 'busqvisa', 'busqamex', 'busqmc', 'busqcsimp', 'busqmill',\n",
      "       'busqcsld', 'busq', 'n_pag', 'android', 'iphone', 'codmes'],\n",
      "      dtype='object')\n"
     ]
    }
   ],
   "source": [
    "digital[\"codmes\"] = (digital.codday/100).astype(int)\n",
    "print(digital.columns)"
   ]
  },
  {
   "cell_type": "code",
   "execution_count": 7,
   "metadata": {},
   "outputs": [],
   "source": [
    "numero_arribadas = ['benefit','email','facebook','goog','youtb','compb']\n",
    "numero_sesiones = ['movil','desktop']\n",
    "tiempo_visita = ['time_ctasimple','time_mllp','time_mllst','time_ctasld','time_tc']\n",
    "numero_buscadores = ['busqtc','busqvisa','busqamex',\n",
    "                     'busqmc','busqcsimp','busqmill','busqcsld','busq']"
   ]
  },
  {
   "cell_type": "code",
   "execution_count": 8,
   "metadata": {},
   "outputs": [],
   "source": [
    "digital[\"numero_arribadas\"] = digital[numero_arribadas].sum(axis=1, skipna=True)\n",
    "digital[\"numero_sesiones\"] = digital[numero_sesiones].sum(axis=1, skipna=True)\n",
    "digital[\"tiempo_visita\"] = digital[tiempo_visita].sum(axis=1, skipna=True)\n",
    "digital[\"numero_buscadores\"] = digital[numero_buscadores].sum(axis=1, skipna=True)"
   ]
  },
  {
   "cell_type": "code",
   "execution_count": 9,
   "metadata": {},
   "outputs": [],
   "source": [
    "\n",
    "digital1 = digital.groupby(['codmes',\"id_persona\"]).simu_prestamo.mean()\n",
    "digital1_numero_arribadas_mean = digital.groupby(['codmes',\"id_persona\"]).numero_arribadas.mean()\n",
    "digital1_numero_sesiones_mean = digital.groupby(['codmes',\"id_persona\"]).numero_sesiones.mean()\n",
    "digital1_tiempo_visita_mean = digital.groupby(['codmes',\"id_persona\"]).tiempo_visita.mean()\n",
    "digital1_numero_buscadores_mean = digital.groupby(['codmes',\"id_persona\"]).numero_buscadores.mean()"
   ]
  },
  {
   "cell_type": "code",
   "execution_count": 11,
   "metadata": {},
   "outputs": [
    {
     "data": {
      "text/plain": [
       "((32044,), (32044,), (32044,), (32044,), (32044,))"
      ]
     },
     "execution_count": 11,
     "metadata": {},
     "output_type": "execute_result"
    }
   ],
   "source": [
    "digital1.shape,digital1_numero_arribadas_mean.shape,digital1_numero_sesiones_mean.shape,digital1_tiempo_visita_mean.shape,digital1_numero_buscadores_mean.shape"
   ]
  },
  {
   "cell_type": "code",
   "execution_count": 10,
   "metadata": {
    "scrolled": true
   },
   "outputs": [
    {
     "name": "stdout",
     "output_type": "stream",
     "text": [
      "********** 201901 **********\n",
      "********** 201902 **********\n",
      "********** 201903 **********\n",
      "********** 201904 **********\n",
      "********** 201905 **********\n",
      "********** 201906 **********\n",
      "********** 201907 **********\n",
      "contatenando digitales\n"
     ]
    },
    {
     "data": {
      "text/html": [
       "<div>\n",
       "<style scoped>\n",
       "    .dataframe tbody tr th:only-of-type {\n",
       "        vertical-align: middle;\n",
       "    }\n",
       "\n",
       "    .dataframe tbody tr th {\n",
       "        vertical-align: top;\n",
       "    }\n",
       "\n",
       "    .dataframe thead th {\n",
       "        text-align: right;\n",
       "    }\n",
       "</style>\n",
       "<table border=\"1\" class=\"dataframe\">\n",
       "  <thead>\n",
       "    <tr style=\"text-align: right;\">\n",
       "      <th></th>\n",
       "      <th></th>\n",
       "      <th>simu_prestamo</th>\n",
       "      <th>numero_arribadas</th>\n",
       "      <th>numero_sesiones</th>\n",
       "      <th>tiempo_visita</th>\n",
       "      <th>numero_buscadores</th>\n",
       "    </tr>\n",
       "    <tr>\n",
       "      <th>id_persona</th>\n",
       "      <th>codmes</th>\n",
       "      <th></th>\n",
       "      <th></th>\n",
       "      <th></th>\n",
       "      <th></th>\n",
       "      <th></th>\n",
       "    </tr>\n",
       "  </thead>\n",
       "  <tbody>\n",
       "    <tr>\n",
       "      <th>345</th>\n",
       "      <th>201901</th>\n",
       "      <td>1.0</td>\n",
       "      <td>0.000000</td>\n",
       "      <td>1.000000</td>\n",
       "      <td>0.0</td>\n",
       "      <td>0.0</td>\n",
       "    </tr>\n",
       "    <tr>\n",
       "      <th>348</th>\n",
       "      <th>201901</th>\n",
       "      <td>0.0</td>\n",
       "      <td>1.000000</td>\n",
       "      <td>1.000000</td>\n",
       "      <td>0.0</td>\n",
       "      <td>0.0</td>\n",
       "    </tr>\n",
       "    <tr>\n",
       "      <th>589</th>\n",
       "      <th>201901</th>\n",
       "      <td>0.0</td>\n",
       "      <td>1.000000</td>\n",
       "      <td>1.000000</td>\n",
       "      <td>0.0</td>\n",
       "      <td>0.0</td>\n",
       "    </tr>\n",
       "    <tr>\n",
       "      <th>645</th>\n",
       "      <th>201901</th>\n",
       "      <td>0.0</td>\n",
       "      <td>1.000000</td>\n",
       "      <td>1.000000</td>\n",
       "      <td>0.0</td>\n",
       "      <td>0.0</td>\n",
       "    </tr>\n",
       "    <tr>\n",
       "      <th>697</th>\n",
       "      <th>201901</th>\n",
       "      <td>0.0</td>\n",
       "      <td>1.000000</td>\n",
       "      <td>1.250000</td>\n",
       "      <td>0.0</td>\n",
       "      <td>0.0</td>\n",
       "    </tr>\n",
       "    <tr>\n",
       "      <th>1032</th>\n",
       "      <th>201901</th>\n",
       "      <td>0.0</td>\n",
       "      <td>1.000000</td>\n",
       "      <td>1.000000</td>\n",
       "      <td>0.0</td>\n",
       "      <td>0.0</td>\n",
       "    </tr>\n",
       "    <tr>\n",
       "      <th>1142</th>\n",
       "      <th>201901</th>\n",
       "      <td>0.0</td>\n",
       "      <td>1.000000</td>\n",
       "      <td>1.000000</td>\n",
       "      <td>0.0</td>\n",
       "      <td>0.0</td>\n",
       "    </tr>\n",
       "    <tr>\n",
       "      <th>1203</th>\n",
       "      <th>201901</th>\n",
       "      <td>0.0</td>\n",
       "      <td>0.500000</td>\n",
       "      <td>1.000000</td>\n",
       "      <td>0.0</td>\n",
       "      <td>0.0</td>\n",
       "    </tr>\n",
       "    <tr>\n",
       "      <th>1799</th>\n",
       "      <th>201901</th>\n",
       "      <td>0.0</td>\n",
       "      <td>1.000000</td>\n",
       "      <td>1.000000</td>\n",
       "      <td>0.0</td>\n",
       "      <td>0.0</td>\n",
       "    </tr>\n",
       "    <tr>\n",
       "      <th>1803</th>\n",
       "      <th>201901</th>\n",
       "      <td>0.0</td>\n",
       "      <td>1.000000</td>\n",
       "      <td>1.000000</td>\n",
       "      <td>0.0</td>\n",
       "      <td>0.0</td>\n",
       "    </tr>\n",
       "    <tr>\n",
       "      <th>2167</th>\n",
       "      <th>201901</th>\n",
       "      <td>0.0</td>\n",
       "      <td>1.000000</td>\n",
       "      <td>1.000000</td>\n",
       "      <td>0.0</td>\n",
       "      <td>0.0</td>\n",
       "    </tr>\n",
       "    <tr>\n",
       "      <th>2202</th>\n",
       "      <th>201901</th>\n",
       "      <td>0.0</td>\n",
       "      <td>1.000000</td>\n",
       "      <td>1.000000</td>\n",
       "      <td>0.0</td>\n",
       "      <td>0.0</td>\n",
       "    </tr>\n",
       "    <tr>\n",
       "      <th>2241</th>\n",
       "      <th>201901</th>\n",
       "      <td>0.0</td>\n",
       "      <td>1.000000</td>\n",
       "      <td>1.000000</td>\n",
       "      <td>0.0</td>\n",
       "      <td>0.0</td>\n",
       "    </tr>\n",
       "    <tr>\n",
       "      <th>2493</th>\n",
       "      <th>201901</th>\n",
       "      <td>0.0</td>\n",
       "      <td>1.000000</td>\n",
       "      <td>1.000000</td>\n",
       "      <td>0.0</td>\n",
       "      <td>0.0</td>\n",
       "    </tr>\n",
       "    <tr>\n",
       "      <th>2706</th>\n",
       "      <th>201901</th>\n",
       "      <td>0.0</td>\n",
       "      <td>1.000000</td>\n",
       "      <td>1.000000</td>\n",
       "      <td>0.0</td>\n",
       "      <td>0.0</td>\n",
       "    </tr>\n",
       "    <tr>\n",
       "      <th>2747</th>\n",
       "      <th>201901</th>\n",
       "      <td>0.0</td>\n",
       "      <td>1.000000</td>\n",
       "      <td>1.000000</td>\n",
       "      <td>0.0</td>\n",
       "      <td>0.0</td>\n",
       "    </tr>\n",
       "    <tr>\n",
       "      <th>3003</th>\n",
       "      <th>201901</th>\n",
       "      <td>0.0</td>\n",
       "      <td>1.000000</td>\n",
       "      <td>1.000000</td>\n",
       "      <td>0.0</td>\n",
       "      <td>0.0</td>\n",
       "    </tr>\n",
       "    <tr>\n",
       "      <th>3229</th>\n",
       "      <th>201901</th>\n",
       "      <td>0.0</td>\n",
       "      <td>1.000000</td>\n",
       "      <td>1.000000</td>\n",
       "      <td>0.0</td>\n",
       "      <td>0.0</td>\n",
       "    </tr>\n",
       "    <tr>\n",
       "      <th>3477</th>\n",
       "      <th>201901</th>\n",
       "      <td>0.0</td>\n",
       "      <td>1.000000</td>\n",
       "      <td>1.000000</td>\n",
       "      <td>0.0</td>\n",
       "      <td>0.0</td>\n",
       "    </tr>\n",
       "    <tr>\n",
       "      <th>3887</th>\n",
       "      <th>201901</th>\n",
       "      <td>0.0</td>\n",
       "      <td>1.000000</td>\n",
       "      <td>1.000000</td>\n",
       "      <td>0.0</td>\n",
       "      <td>0.0</td>\n",
       "    </tr>\n",
       "    <tr>\n",
       "      <th>4352</th>\n",
       "      <th>201901</th>\n",
       "      <td>0.0</td>\n",
       "      <td>0.666667</td>\n",
       "      <td>1.000000</td>\n",
       "      <td>0.0</td>\n",
       "      <td>0.0</td>\n",
       "    </tr>\n",
       "    <tr>\n",
       "      <th>6087</th>\n",
       "      <th>201901</th>\n",
       "      <td>0.0</td>\n",
       "      <td>0.000000</td>\n",
       "      <td>1.928571</td>\n",
       "      <td>0.0</td>\n",
       "      <td>0.0</td>\n",
       "    </tr>\n",
       "    <tr>\n",
       "      <th>6531</th>\n",
       "      <th>201901</th>\n",
       "      <td>0.0</td>\n",
       "      <td>1.000000</td>\n",
       "      <td>1.000000</td>\n",
       "      <td>0.0</td>\n",
       "      <td>0.0</td>\n",
       "    </tr>\n",
       "    <tr>\n",
       "      <th>6585</th>\n",
       "      <th>201901</th>\n",
       "      <td>0.0</td>\n",
       "      <td>1.000000</td>\n",
       "      <td>1.000000</td>\n",
       "      <td>0.0</td>\n",
       "      <td>0.0</td>\n",
       "    </tr>\n",
       "    <tr>\n",
       "      <th>6895</th>\n",
       "      <th>201901</th>\n",
       "      <td>0.0</td>\n",
       "      <td>1.333333</td>\n",
       "      <td>1.333333</td>\n",
       "      <td>0.0</td>\n",
       "      <td>0.0</td>\n",
       "    </tr>\n",
       "    <tr>\n",
       "      <th>6938</th>\n",
       "      <th>201901</th>\n",
       "      <td>0.0</td>\n",
       "      <td>0.200000</td>\n",
       "      <td>1.200000</td>\n",
       "      <td>0.0</td>\n",
       "      <td>0.0</td>\n",
       "    </tr>\n",
       "    <tr>\n",
       "      <th>7118</th>\n",
       "      <th>201901</th>\n",
       "      <td>0.0</td>\n",
       "      <td>1.000000</td>\n",
       "      <td>1.000000</td>\n",
       "      <td>0.0</td>\n",
       "      <td>0.0</td>\n",
       "    </tr>\n",
       "    <tr>\n",
       "      <th>7476</th>\n",
       "      <th>201901</th>\n",
       "      <td>0.0</td>\n",
       "      <td>0.000000</td>\n",
       "      <td>1.000000</td>\n",
       "      <td>0.0</td>\n",
       "      <td>0.0</td>\n",
       "    </tr>\n",
       "    <tr>\n",
       "      <th>8264</th>\n",
       "      <th>201901</th>\n",
       "      <td>0.0</td>\n",
       "      <td>0.000000</td>\n",
       "      <td>1.000000</td>\n",
       "      <td>0.0</td>\n",
       "      <td>0.0</td>\n",
       "    </tr>\n",
       "    <tr>\n",
       "      <th>9151</th>\n",
       "      <th>201901</th>\n",
       "      <td>0.0</td>\n",
       "      <td>0.200000</td>\n",
       "      <td>1.000000</td>\n",
       "      <td>0.0</td>\n",
       "      <td>0.0</td>\n",
       "    </tr>\n",
       "    <tr>\n",
       "      <th>...</th>\n",
       "      <th>...</th>\n",
       "      <td>...</td>\n",
       "      <td>...</td>\n",
       "      <td>...</td>\n",
       "      <td>...</td>\n",
       "      <td>...</td>\n",
       "    </tr>\n",
       "    <tr>\n",
       "      <th>256049</th>\n",
       "      <th>201907</th>\n",
       "      <td>0.0</td>\n",
       "      <td>1.000000</td>\n",
       "      <td>1.000000</td>\n",
       "      <td>0.0</td>\n",
       "      <td>0.0</td>\n",
       "    </tr>\n",
       "    <tr>\n",
       "      <th>256064</th>\n",
       "      <th>201907</th>\n",
       "      <td>0.0</td>\n",
       "      <td>1.000000</td>\n",
       "      <td>1.000000</td>\n",
       "      <td>0.0</td>\n",
       "      <td>0.0</td>\n",
       "    </tr>\n",
       "    <tr>\n",
       "      <th>256068</th>\n",
       "      <th>201907</th>\n",
       "      <td>0.0</td>\n",
       "      <td>3.000000</td>\n",
       "      <td>2.000000</td>\n",
       "      <td>0.0</td>\n",
       "      <td>0.0</td>\n",
       "    </tr>\n",
       "    <tr>\n",
       "      <th>256084</th>\n",
       "      <th>201907</th>\n",
       "      <td>0.0</td>\n",
       "      <td>1.000000</td>\n",
       "      <td>1.000000</td>\n",
       "      <td>0.0</td>\n",
       "      <td>0.0</td>\n",
       "    </tr>\n",
       "    <tr>\n",
       "      <th>256090</th>\n",
       "      <th>201907</th>\n",
       "      <td>0.0</td>\n",
       "      <td>1.000000</td>\n",
       "      <td>1.000000</td>\n",
       "      <td>0.0</td>\n",
       "      <td>0.0</td>\n",
       "    </tr>\n",
       "    <tr>\n",
       "      <th>256094</th>\n",
       "      <th>201907</th>\n",
       "      <td>0.0</td>\n",
       "      <td>2.000000</td>\n",
       "      <td>2.000000</td>\n",
       "      <td>0.0</td>\n",
       "      <td>0.0</td>\n",
       "    </tr>\n",
       "    <tr>\n",
       "      <th>256097</th>\n",
       "      <th>201907</th>\n",
       "      <td>0.0</td>\n",
       "      <td>1.000000</td>\n",
       "      <td>1.000000</td>\n",
       "      <td>0.0</td>\n",
       "      <td>0.0</td>\n",
       "    </tr>\n",
       "    <tr>\n",
       "      <th>256103</th>\n",
       "      <th>201907</th>\n",
       "      <td>0.0</td>\n",
       "      <td>1.000000</td>\n",
       "      <td>1.000000</td>\n",
       "      <td>0.0</td>\n",
       "      <td>0.0</td>\n",
       "    </tr>\n",
       "    <tr>\n",
       "      <th>256104</th>\n",
       "      <th>201907</th>\n",
       "      <td>0.0</td>\n",
       "      <td>1.000000</td>\n",
       "      <td>1.000000</td>\n",
       "      <td>0.0</td>\n",
       "      <td>0.0</td>\n",
       "    </tr>\n",
       "    <tr>\n",
       "      <th>256110</th>\n",
       "      <th>201907</th>\n",
       "      <td>0.0</td>\n",
       "      <td>1.500000</td>\n",
       "      <td>2.000000</td>\n",
       "      <td>0.0</td>\n",
       "      <td>0.0</td>\n",
       "    </tr>\n",
       "    <tr>\n",
       "      <th>256118</th>\n",
       "      <th>201907</th>\n",
       "      <td>0.0</td>\n",
       "      <td>2.000000</td>\n",
       "      <td>2.000000</td>\n",
       "      <td>0.0</td>\n",
       "      <td>0.0</td>\n",
       "    </tr>\n",
       "    <tr>\n",
       "      <th>256120</th>\n",
       "      <th>201907</th>\n",
       "      <td>0.0</td>\n",
       "      <td>1.000000</td>\n",
       "      <td>1.000000</td>\n",
       "      <td>0.0</td>\n",
       "      <td>0.0</td>\n",
       "    </tr>\n",
       "    <tr>\n",
       "      <th>256126</th>\n",
       "      <th>201907</th>\n",
       "      <td>0.0</td>\n",
       "      <td>1.000000</td>\n",
       "      <td>1.000000</td>\n",
       "      <td>0.0</td>\n",
       "      <td>0.0</td>\n",
       "    </tr>\n",
       "    <tr>\n",
       "      <th>256165</th>\n",
       "      <th>201907</th>\n",
       "      <td>0.0</td>\n",
       "      <td>1.000000</td>\n",
       "      <td>1.000000</td>\n",
       "      <td>0.0</td>\n",
       "      <td>0.0</td>\n",
       "    </tr>\n",
       "    <tr>\n",
       "      <th>256187</th>\n",
       "      <th>201907</th>\n",
       "      <td>0.0</td>\n",
       "      <td>1.000000</td>\n",
       "      <td>1.000000</td>\n",
       "      <td>0.0</td>\n",
       "      <td>0.0</td>\n",
       "    </tr>\n",
       "    <tr>\n",
       "      <th>256195</th>\n",
       "      <th>201907</th>\n",
       "      <td>0.0</td>\n",
       "      <td>1.000000</td>\n",
       "      <td>1.000000</td>\n",
       "      <td>0.0</td>\n",
       "      <td>0.0</td>\n",
       "    </tr>\n",
       "    <tr>\n",
       "      <th>256203</th>\n",
       "      <th>201907</th>\n",
       "      <td>0.0</td>\n",
       "      <td>1.000000</td>\n",
       "      <td>1.000000</td>\n",
       "      <td>0.0</td>\n",
       "      <td>0.0</td>\n",
       "    </tr>\n",
       "    <tr>\n",
       "      <th>256239</th>\n",
       "      <th>201907</th>\n",
       "      <td>0.0</td>\n",
       "      <td>1.000000</td>\n",
       "      <td>1.000000</td>\n",
       "      <td>0.0</td>\n",
       "      <td>0.0</td>\n",
       "    </tr>\n",
       "    <tr>\n",
       "      <th>256252</th>\n",
       "      <th>201907</th>\n",
       "      <td>0.0</td>\n",
       "      <td>2.000000</td>\n",
       "      <td>2.000000</td>\n",
       "      <td>0.0</td>\n",
       "      <td>0.0</td>\n",
       "    </tr>\n",
       "    <tr>\n",
       "      <th>256289</th>\n",
       "      <th>201907</th>\n",
       "      <td>1.0</td>\n",
       "      <td>1.000000</td>\n",
       "      <td>1.000000</td>\n",
       "      <td>0.0</td>\n",
       "      <td>0.0</td>\n",
       "    </tr>\n",
       "    <tr>\n",
       "      <th>256294</th>\n",
       "      <th>201907</th>\n",
       "      <td>0.0</td>\n",
       "      <td>2.138528</td>\n",
       "      <td>2.415584</td>\n",
       "      <td>0.0</td>\n",
       "      <td>0.0</td>\n",
       "    </tr>\n",
       "    <tr>\n",
       "      <th>256296</th>\n",
       "      <th>201907</th>\n",
       "      <td>0.0</td>\n",
       "      <td>1.000000</td>\n",
       "      <td>1.000000</td>\n",
       "      <td>0.0</td>\n",
       "      <td>0.0</td>\n",
       "    </tr>\n",
       "    <tr>\n",
       "      <th>256298</th>\n",
       "      <th>201907</th>\n",
       "      <td>0.0</td>\n",
       "      <td>1.000000</td>\n",
       "      <td>1.000000</td>\n",
       "      <td>0.0</td>\n",
       "      <td>0.0</td>\n",
       "    </tr>\n",
       "    <tr>\n",
       "      <th>256315</th>\n",
       "      <th>201907</th>\n",
       "      <td>0.0</td>\n",
       "      <td>1.000000</td>\n",
       "      <td>1.000000</td>\n",
       "      <td>0.0</td>\n",
       "      <td>0.0</td>\n",
       "    </tr>\n",
       "    <tr>\n",
       "      <th>256335</th>\n",
       "      <th>201907</th>\n",
       "      <td>0.0</td>\n",
       "      <td>1.250000</td>\n",
       "      <td>1.250000</td>\n",
       "      <td>0.0</td>\n",
       "      <td>0.0</td>\n",
       "    </tr>\n",
       "    <tr>\n",
       "      <th>256339</th>\n",
       "      <th>201907</th>\n",
       "      <td>0.0</td>\n",
       "      <td>0.000000</td>\n",
       "      <td>3.500000</td>\n",
       "      <td>0.0</td>\n",
       "      <td>0.0</td>\n",
       "    </tr>\n",
       "    <tr>\n",
       "      <th>256352</th>\n",
       "      <th>201907</th>\n",
       "      <td>0.0</td>\n",
       "      <td>1.000000</td>\n",
       "      <td>1.000000</td>\n",
       "      <td>0.0</td>\n",
       "      <td>0.0</td>\n",
       "    </tr>\n",
       "    <tr>\n",
       "      <th>256362</th>\n",
       "      <th>201907</th>\n",
       "      <td>0.0</td>\n",
       "      <td>1.000000</td>\n",
       "      <td>1.000000</td>\n",
       "      <td>0.0</td>\n",
       "      <td>0.0</td>\n",
       "    </tr>\n",
       "    <tr>\n",
       "      <th>256374</th>\n",
       "      <th>201907</th>\n",
       "      <td>0.0</td>\n",
       "      <td>1.000000</td>\n",
       "      <td>1.000000</td>\n",
       "      <td>0.0</td>\n",
       "      <td>0.0</td>\n",
       "    </tr>\n",
       "    <tr>\n",
       "      <th>256375</th>\n",
       "      <th>201907</th>\n",
       "      <td>0.0</td>\n",
       "      <td>1.000000</td>\n",
       "      <td>1.000000</td>\n",
       "      <td>0.0</td>\n",
       "      <td>0.0</td>\n",
       "    </tr>\n",
       "  </tbody>\n",
       "</table>\n",
       "<p>88316 rows × 5 columns</p>\n",
       "</div>"
      ],
      "text/plain": [
       "                   simu_prestamo  numero_arribadas  numero_sesiones  \\\n",
       "id_persona codmes                                                     \n",
       "345        201901            1.0          0.000000         1.000000   \n",
       "348        201901            0.0          1.000000         1.000000   \n",
       "589        201901            0.0          1.000000         1.000000   \n",
       "645        201901            0.0          1.000000         1.000000   \n",
       "697        201901            0.0          1.000000         1.250000   \n",
       "1032       201901            0.0          1.000000         1.000000   \n",
       "1142       201901            0.0          1.000000         1.000000   \n",
       "1203       201901            0.0          0.500000         1.000000   \n",
       "1799       201901            0.0          1.000000         1.000000   \n",
       "1803       201901            0.0          1.000000         1.000000   \n",
       "2167       201901            0.0          1.000000         1.000000   \n",
       "2202       201901            0.0          1.000000         1.000000   \n",
       "2241       201901            0.0          1.000000         1.000000   \n",
       "2493       201901            0.0          1.000000         1.000000   \n",
       "2706       201901            0.0          1.000000         1.000000   \n",
       "2747       201901            0.0          1.000000         1.000000   \n",
       "3003       201901            0.0          1.000000         1.000000   \n",
       "3229       201901            0.0          1.000000         1.000000   \n",
       "3477       201901            0.0          1.000000         1.000000   \n",
       "3887       201901            0.0          1.000000         1.000000   \n",
       "4352       201901            0.0          0.666667         1.000000   \n",
       "6087       201901            0.0          0.000000         1.928571   \n",
       "6531       201901            0.0          1.000000         1.000000   \n",
       "6585       201901            0.0          1.000000         1.000000   \n",
       "6895       201901            0.0          1.333333         1.333333   \n",
       "6938       201901            0.0          0.200000         1.200000   \n",
       "7118       201901            0.0          1.000000         1.000000   \n",
       "7476       201901            0.0          0.000000         1.000000   \n",
       "8264       201901            0.0          0.000000         1.000000   \n",
       "9151       201901            0.0          0.200000         1.000000   \n",
       "...                          ...               ...              ...   \n",
       "256049     201907            0.0          1.000000         1.000000   \n",
       "256064     201907            0.0          1.000000         1.000000   \n",
       "256068     201907            0.0          3.000000         2.000000   \n",
       "256084     201907            0.0          1.000000         1.000000   \n",
       "256090     201907            0.0          1.000000         1.000000   \n",
       "256094     201907            0.0          2.000000         2.000000   \n",
       "256097     201907            0.0          1.000000         1.000000   \n",
       "256103     201907            0.0          1.000000         1.000000   \n",
       "256104     201907            0.0          1.000000         1.000000   \n",
       "256110     201907            0.0          1.500000         2.000000   \n",
       "256118     201907            0.0          2.000000         2.000000   \n",
       "256120     201907            0.0          1.000000         1.000000   \n",
       "256126     201907            0.0          1.000000         1.000000   \n",
       "256165     201907            0.0          1.000000         1.000000   \n",
       "256187     201907            0.0          1.000000         1.000000   \n",
       "256195     201907            0.0          1.000000         1.000000   \n",
       "256203     201907            0.0          1.000000         1.000000   \n",
       "256239     201907            0.0          1.000000         1.000000   \n",
       "256252     201907            0.0          2.000000         2.000000   \n",
       "256289     201907            1.0          1.000000         1.000000   \n",
       "256294     201907            0.0          2.138528         2.415584   \n",
       "256296     201907            0.0          1.000000         1.000000   \n",
       "256298     201907            0.0          1.000000         1.000000   \n",
       "256315     201907            0.0          1.000000         1.000000   \n",
       "256335     201907            0.0          1.250000         1.250000   \n",
       "256339     201907            0.0          0.000000         3.500000   \n",
       "256352     201907            0.0          1.000000         1.000000   \n",
       "256362     201907            0.0          1.000000         1.000000   \n",
       "256374     201907            0.0          1.000000         1.000000   \n",
       "256375     201907            0.0          1.000000         1.000000   \n",
       "\n",
       "                   tiempo_visita  numero_buscadores  \n",
       "id_persona codmes                                    \n",
       "345        201901            0.0                0.0  \n",
       "348        201901            0.0                0.0  \n",
       "589        201901            0.0                0.0  \n",
       "645        201901            0.0                0.0  \n",
       "697        201901            0.0                0.0  \n",
       "1032       201901            0.0                0.0  \n",
       "1142       201901            0.0                0.0  \n",
       "1203       201901            0.0                0.0  \n",
       "1799       201901            0.0                0.0  \n",
       "1803       201901            0.0                0.0  \n",
       "2167       201901            0.0                0.0  \n",
       "2202       201901            0.0                0.0  \n",
       "2241       201901            0.0                0.0  \n",
       "2493       201901            0.0                0.0  \n",
       "2706       201901            0.0                0.0  \n",
       "2747       201901            0.0                0.0  \n",
       "3003       201901            0.0                0.0  \n",
       "3229       201901            0.0                0.0  \n",
       "3477       201901            0.0                0.0  \n",
       "3887       201901            0.0                0.0  \n",
       "4352       201901            0.0                0.0  \n",
       "6087       201901            0.0                0.0  \n",
       "6531       201901            0.0                0.0  \n",
       "6585       201901            0.0                0.0  \n",
       "6895       201901            0.0                0.0  \n",
       "6938       201901            0.0                0.0  \n",
       "7118       201901            0.0                0.0  \n",
       "7476       201901            0.0                0.0  \n",
       "8264       201901            0.0                0.0  \n",
       "9151       201901            0.0                0.0  \n",
       "...                          ...                ...  \n",
       "256049     201907            0.0                0.0  \n",
       "256064     201907            0.0                0.0  \n",
       "256068     201907            0.0                0.0  \n",
       "256084     201907            0.0                0.0  \n",
       "256090     201907            0.0                0.0  \n",
       "256094     201907            0.0                0.0  \n",
       "256097     201907            0.0                0.0  \n",
       "256103     201907            0.0                0.0  \n",
       "256104     201907            0.0                0.0  \n",
       "256110     201907            0.0                0.0  \n",
       "256118     201907            0.0                0.0  \n",
       "256120     201907            0.0                0.0  \n",
       "256126     201907            0.0                0.0  \n",
       "256165     201907            0.0                0.0  \n",
       "256187     201907            0.0                0.0  \n",
       "256195     201907            0.0                0.0  \n",
       "256203     201907            0.0                0.0  \n",
       "256239     201907            0.0                0.0  \n",
       "256252     201907            0.0                0.0  \n",
       "256289     201907            0.0                0.0  \n",
       "256294     201907            0.0                0.0  \n",
       "256296     201907            0.0                0.0  \n",
       "256298     201907            0.0                0.0  \n",
       "256315     201907            0.0                0.0  \n",
       "256335     201907            0.0                0.0  \n",
       "256339     201907            0.0                0.0  \n",
       "256352     201907            0.0                0.0  \n",
       "256362     201907            0.0                0.0  \n",
       "256374     201907            0.0                0.0  \n",
       "256375     201907            0.0                0.0  \n",
       "\n",
       "[88316 rows x 5 columns]"
      ]
     },
     "execution_count": 10,
     "metadata": {},
     "output_type": "execute_result"
    }
   ],
   "source": [
    "import gc\n",
    "gc.collect()\n",
    "\n",
    "meses = {\n",
    "    201901: slice(201811),\n",
    "    201902: slice(2018011,201912),\n",
    "    201903: slice(2018012),\n",
    "    201904: slice(201901),\n",
    "    201905: slice(201902),\n",
    "    201906: slice(201903),\n",
    "    201907: slice(201904)\n",
    "}\n",
    "\n",
    "digitall = []\n",
    "for mes in meses.keys():\n",
    "    print(\"*\"*10, mes, \"*\"*10)\n",
    "    res = pd.concat([\n",
    "        digital1.loc[meses[mes]].groupby(\"id_persona\").sum(),\n",
    "        digital1_numero_arribadas_mean.loc[meses[mes]].groupby(\"id_persona\").sum(),\n",
    "        digital1_numero_sesiones_mean.loc[meses[mes]].groupby(\"id_persona\").sum(),\n",
    "        digital1_tiempo_visita_mean.loc[meses[mes]].groupby(\"id_persona\").sum(),\n",
    "        digital1_numero_buscadores_mean.loc[meses[mes]].groupby(\"id_persona\").sum()\n",
    "        \n",
    "    ], axis=1)\n",
    "    res[\"codmes\"] = mes\n",
    "    res = res.reset_index().set_index([\"id_persona\", \"codmes\"]).astype(\"float32\")\n",
    "    digitall.append(res)\n",
    "\n",
    "gc.collect()\n",
    "print(\"contatenando digitales\")\n",
    "digitall = pd.concat(digitall)\n",
    "gc.collect()\n",
    "digitall"
   ]
  },
  {
   "cell_type": "code",
   "execution_count": 13,
   "metadata": {},
   "outputs": [
    {
     "name": "stdout",
     "output_type": "stream",
     "text": [
      "Porcentaje de datos nulos o missing en digital\n"
     ]
    },
    {
     "data": {
      "text/plain": [
       "simu_prestamo        0.0\n",
       "numero_arribadas     0.0\n",
       "numero_sesiones      0.0\n",
       "tiempo_visita        0.0\n",
       "numero_buscadores    0.0\n",
       "dtype: float64"
      ]
     },
     "execution_count": 13,
     "metadata": {},
     "output_type": "execute_result"
    }
   ],
   "source": [
    "print(\"Porcentaje de datos nulos o missing en digital\")\n",
    "digitall.isnull().sum()/digitall.shape[0]"
   ]
  },
  {
   "cell_type": "code",
   "execution_count": 11,
   "metadata": {},
   "outputs": [],
   "source": [
    "digitall[\"presencia_digital\"]=1"
   ]
  },
  {
   "cell_type": "code",
   "execution_count": 17,
   "metadata": {},
   "outputs": [],
   "source": [
    "del digital"
   ]
  },
  {
   "cell_type": "markdown",
   "metadata": {},
   "source": [
    "# Base de datos campanias"
   ]
  },
  {
   "cell_type": "code",
   "execution_count": 12,
   "metadata": {},
   "outputs": [],
   "source": [
    "campanias = pd.read_csv('ib_base_campanias.csv')"
   ]
  },
  {
   "cell_type": "code",
   "execution_count": 7,
   "metadata": {},
   "outputs": [
    {
     "data": {
      "text/html": [
       "<div>\n",
       "<style scoped>\n",
       "    .dataframe tbody tr th:only-of-type {\n",
       "        vertical-align: middle;\n",
       "    }\n",
       "\n",
       "    .dataframe tbody tr th {\n",
       "        vertical-align: top;\n",
       "    }\n",
       "\n",
       "    .dataframe thead th {\n",
       "        text-align: right;\n",
       "    }\n",
       "</style>\n",
       "<table border=\"1\" class=\"dataframe\">\n",
       "  <thead>\n",
       "    <tr style=\"text-align: right;\">\n",
       "      <th></th>\n",
       "      <th>codmes</th>\n",
       "      <th>id_persona</th>\n",
       "      <th>producto</th>\n",
       "      <th>canal_asignado</th>\n",
       "    </tr>\n",
       "  </thead>\n",
       "  <tbody>\n",
       "    <tr>\n",
       "      <th>0</th>\n",
       "      <td>201801</td>\n",
       "      <td>213598</td>\n",
       "      <td>Adelanto de Sueldo</td>\n",
       "      <td>RED DE TIENDAS</td>\n",
       "    </tr>\n",
       "    <tr>\n",
       "      <th>1</th>\n",
       "      <td>201801</td>\n",
       "      <td>237325</td>\n",
       "      <td>Adelanto de Sueldo</td>\n",
       "      <td>RED DE TIENDAS</td>\n",
       "    </tr>\n",
       "    <tr>\n",
       "      <th>2</th>\n",
       "      <td>201801</td>\n",
       "      <td>82808</td>\n",
       "      <td>Adquisición Convenios</td>\n",
       "      <td>FFVV</td>\n",
       "    </tr>\n",
       "    <tr>\n",
       "      <th>3</th>\n",
       "      <td>201801</td>\n",
       "      <td>90555</td>\n",
       "      <td>Adquisición Convenios</td>\n",
       "      <td>FFVV</td>\n",
       "    </tr>\n",
       "    <tr>\n",
       "      <th>4</th>\n",
       "      <td>201801</td>\n",
       "      <td>93408</td>\n",
       "      <td>Adquisición Convenios</td>\n",
       "      <td>FFVV</td>\n",
       "    </tr>\n",
       "  </tbody>\n",
       "</table>\n",
       "</div>"
      ],
      "text/plain": [
       "   codmes  id_persona               producto  canal_asignado\n",
       "0  201801      213598     Adelanto de Sueldo  RED DE TIENDAS\n",
       "1  201801      237325     Adelanto de Sueldo  RED DE TIENDAS\n",
       "2  201801       82808  Adquisición Convenios            FFVV\n",
       "3  201801       90555  Adquisición Convenios            FFVV\n",
       "4  201801       93408  Adquisición Convenios            FFVV"
      ]
     },
     "execution_count": 7,
     "metadata": {},
     "output_type": "execute_result"
    }
   ],
   "source": [
    "campanias.head()"
   ]
  },
  {
   "cell_type": "code",
   "execution_count": 13,
   "metadata": {},
   "outputs": [],
   "source": [
    "camp_canal = campanias.groupby([\"codmes\", \"id_persona\", \"canal_asignado\"]).size().unstack(level=2, fill_value=0).reset_index().set_index(\"codmes\").sort_index().astype(\"int32\")\n",
    "camp_prod = campanias.groupby([\"codmes\", \"id_persona\", \"producto\"]).size().unstack(level=2, fill_value=0).reset_index().set_index(\"codmes\").sort_index().astype(\"int32\")\n",
    "del campanias\n"
   ]
  },
  {
   "cell_type": "code",
   "execution_count": 14,
   "metadata": {},
   "outputs": [
    {
     "name": "stdout",
     "output_type": "stream",
     "text": [
      "********** 201901 **********\n",
      "********** 201902 **********\n",
      "********** 201903 **********\n",
      "********** 201904 **********\n",
      "********** 201905 **********\n",
      "********** 201906 **********\n",
      "********** 201907 **********\n",
      "contatenando complementos\n"
     ]
    },
    {
     "data": {
      "text/plain": [
       "14"
      ]
     },
     "execution_count": 14,
     "metadata": {},
     "output_type": "execute_result"
    }
   ],
   "source": [
    "import gc\n",
    "gc.collect()\n",
    "\n",
    "meses = {\n",
    "    201901: slice(201808, 201810),\n",
    "    201902: slice(201809, 201811),\n",
    "    201903: slice(201810, 201812),\n",
    "    201904: slice(201811, 201901),\n",
    "    201905: slice(201812, 201902),\n",
    "    201906: slice(201901, 201903),\n",
    "    201907: slice(201902, 201904)\n",
    "}\n",
    "#meses = {\n",
    " #   201901: slice(201808, 201812),\n",
    "  #  201902: slice(201808, 201901),\n",
    "   # 201903: slice(201901, 201902),\n",
    "   # 201904: slice(201901, 201903),\n",
    "   # 201905: slice(201902, 201903),\n",
    "   # 201906: slice(201811, 201904),\n",
    "   #201907: slice(201812, 201904)\n",
    "#}\n",
    "complementos = []\n",
    "for mes in meses.keys():\n",
    "    print(\"*\"*10, mes, \"*\"*10)\n",
    "    res = pd.concat([\n",
    "        camp_canal.loc[meses[mes]].groupby(\"id_persona\").sum(),\n",
    "        camp_prod.loc[meses[mes]].groupby(\"id_persona\").sum()\n",
    "        \n",
    "    ],axis=1)\n",
    "    res[\"codmes\"] = mes\n",
    "    res = res.reset_index().set_index([\"id_persona\", \"codmes\"]).astype(\"float32\")\n",
    "    complementos.append(res)\n",
    "\n",
    "gc.collect()\n",
    "print(\"contatenando complementos\")\n",
    "complementos = pd.concat(complementos)\n",
    "gc.collect()"
   ]
  },
  {
   "cell_type": "code",
   "execution_count": 15,
   "metadata": {},
   "outputs": [
    {
     "data": {
      "text/plain": [
       "(1312320, 62)"
      ]
     },
     "execution_count": 15,
     "metadata": {},
     "output_type": "execute_result"
    }
   ],
   "source": [
    "complementos=complementos.loc[:,complementos.var()!=0]\n",
    "complementos.shape"
   ]
  },
  {
   "cell_type": "code",
   "execution_count": 26,
   "metadata": {
    "collapsed": true
   },
   "outputs": [
    {
     "data": {
      "text/plain": [
       "ABP                                  0.001926\n",
       "AC_PROV                              0.001926\n",
       "BANCA TELEFONICA                     0.001926\n",
       "BOLSA                                0.001926\n",
       "BOLSA(EX)                            0.001926\n",
       "CARTERA                              0.001926\n",
       "CARTERAS                             0.001926\n",
       "CAV                                  0.001926\n",
       "EBP                                  0.001926\n",
       "EBP_LIMA                             0.001926\n",
       "ER                                   0.001926\n",
       "EXPRESS                              0.001926\n",
       "EXPRESS ABP                          0.001926\n",
       "EXPRESS-ABP                          0.001926\n",
       "FFVV                                 0.001926\n",
       "GT                                   0.001926\n",
       "RED DE TIENDAS                       0.001926\n",
       "RED_DE_TIENDAS                       0.001926\n",
       "S1P                                  0.001926\n",
       "SOMOS_UNO_PROVINCIA                  0.001926\n",
       "TELEVENTAS                           0.001926\n",
       "TLV                                  0.001926\n",
       "TLV CD                               0.001926\n",
       "TLV SEGMENTOS                        0.001926\n",
       "Adelanto de Sueldo                   0.016127\n",
       "Adquisición Convenios                0.016127\n",
       "Adquisición TC                       0.016127\n",
       "Alcancía                             0.016127\n",
       "CD Préstamos                         0.016127\n",
       "CD-Ataque                            0.016127\n",
       "                                       ...   \n",
       "Combos                               0.016127\n",
       "Combos CUENTA+APP                    0.016127\n",
       "Combos Cuenta Sueldo + APP           0.016127\n",
       "Combos TC + PA                       0.016127\n",
       "Combos TC+CUENTA+APP                 0.016127\n",
       "Combos TC+PA                         0.016127\n",
       "Convenios Ampliaciones               0.016127\n",
       "Convenios Compra Deuda Cliente       0.016127\n",
       "Convenios Compra Deuda No Cliente    0.016127\n",
       "Crédito Hipotecario                  0.016127\n",
       "Crédito Vehicular                    0.016127\n",
       "Cuenta Millonaria                    0.016127\n",
       "Cuenta Millonaria SuperTasa          0.016127\n",
       "Cuenta Simple                        0.016127\n",
       "Cuenta Sueldo                        0.016127\n",
       "Cuenta Sueldo Independiente          0.016127\n",
       "Depósito a Plazo                     0.016127\n",
       "ExtraCash                            0.016127\n",
       "Incremento Linea                     0.016127\n",
       "Membresia                            0.016127\n",
       "Pago Automatico                      0.016127\n",
       "Préstamo Express                     0.016127\n",
       "Préstamos Personales                 0.016127\n",
       "Préstamos Reenganche                 0.016127\n",
       "Retencion TC                         0.016127\n",
       "Seguros                              0.016127\n",
       "TELEVENTAS                           0.016127\n",
       "Upgrade                              0.016127\n",
       "Upgrade TC                           0.016127\n",
       "presencia_complementos               0.000000\n",
       "Length: 63, dtype: float64"
      ]
     },
     "execution_count": 26,
     "metadata": {},
     "output_type": "execute_result"
    }
   ],
   "source": [
    "complementos.isnull().sum()/complementos.shape[0]"
   ]
  },
  {
   "cell_type": "code",
   "execution_count": 16,
   "metadata": {},
   "outputs": [],
   "source": [
    "complementos[\"presencia_complementos\"]=1"
   ]
  },
  {
   "cell_type": "code",
   "execution_count": 17,
   "metadata": {},
   "outputs": [],
   "source": [
    "train = train.join(complementos, on=[\"id_persona\", \"codmes\"])\n",
    "train = train.join(digitall, on=[\"id_persona\", \"codmes\"])\n",
    "\n",
    "test = test.join(complementos, on=[\"id_persona\", \"codmes\"])\n",
    "test = test.join(digitall, on=[\"id_persona\", \"codmes\"])\n",
    "del complementos, digitall"
   ]
  },
  {
   "cell_type": "code",
   "execution_count": 18,
   "metadata": {},
   "outputs": [],
   "source": [
    "del camp_canal, camp_prod, digital1_numero_arribadas_mean, digital1_numero_sesiones_mean, digital1_tiempo_visita_mean, digital1_numero_buscadores_mean"
   ]
  },
  {
   "cell_type": "code",
   "execution_count": 20,
   "metadata": {},
   "outputs": [
    {
     "data": {
      "text/plain": [
       "((212665, 78), (178685, 75))"
      ]
     },
     "execution_count": 20,
     "metadata": {},
     "output_type": "execute_result"
    }
   ],
   "source": [
    "train.shape,test.shape"
   ]
  },
  {
   "cell_type": "code",
   "execution_count": 33,
   "metadata": {
    "scrolled": true
   },
   "outputs": [
    {
     "data": {
      "text/html": [
       "<div>\n",
       "<style scoped>\n",
       "    .dataframe tbody tr th:only-of-type {\n",
       "        vertical-align: middle;\n",
       "    }\n",
       "\n",
       "    .dataframe tbody tr th {\n",
       "        vertical-align: top;\n",
       "    }\n",
       "\n",
       "    .dataframe thead th {\n",
       "        text-align: right;\n",
       "    }\n",
       "</style>\n",
       "<table border=\"1\" class=\"dataframe\">\n",
       "  <thead>\n",
       "    <tr style=\"text-align: right;\">\n",
       "      <th></th>\n",
       "      <th>codmes</th>\n",
       "      <th>id_persona</th>\n",
       "      <th>codtarget</th>\n",
       "      <th>margen</th>\n",
       "      <th>cem</th>\n",
       "      <th>ingreso_neto</th>\n",
       "      <th>linea_ofrecida</th>\n",
       "      <th>prediction_id</th>\n",
       "      <th>target</th>\n",
       "      <th>ABP</th>\n",
       "      <th>...</th>\n",
       "      <th>TELEVENTAS</th>\n",
       "      <th>Upgrade</th>\n",
       "      <th>Upgrade TC</th>\n",
       "      <th>presencia_complementos</th>\n",
       "      <th>simu_prestamo</th>\n",
       "      <th>numero_arribadas</th>\n",
       "      <th>numero_sesiones</th>\n",
       "      <th>tiempo_visita</th>\n",
       "      <th>numero_buscadores</th>\n",
       "      <th>presencia_digital</th>\n",
       "    </tr>\n",
       "  </thead>\n",
       "  <tbody>\n",
       "    <tr>\n",
       "      <th>0</th>\n",
       "      <td>201901</td>\n",
       "      <td>165747</td>\n",
       "      <td>0</td>\n",
       "      <td>-5.00</td>\n",
       "      <td>1.0</td>\n",
       "      <td>1781.0</td>\n",
       "      <td>1700</td>\n",
       "      <td>165747_201901</td>\n",
       "      <td>0</td>\n",
       "      <td>0.0</td>\n",
       "      <td>...</td>\n",
       "      <td>0.0</td>\n",
       "      <td>0.0</td>\n",
       "      <td>0.0</td>\n",
       "      <td>1.0</td>\n",
       "      <td>NaN</td>\n",
       "      <td>NaN</td>\n",
       "      <td>NaN</td>\n",
       "      <td>NaN</td>\n",
       "      <td>NaN</td>\n",
       "      <td>NaN</td>\n",
       "    </tr>\n",
       "    <tr>\n",
       "      <th>1</th>\n",
       "      <td>201903</td>\n",
       "      <td>100117</td>\n",
       "      <td>0</td>\n",
       "      <td>-5.00</td>\n",
       "      <td>478.0</td>\n",
       "      <td>2106.0</td>\n",
       "      <td>2100</td>\n",
       "      <td>100117_201903</td>\n",
       "      <td>0</td>\n",
       "      <td>0.0</td>\n",
       "      <td>...</td>\n",
       "      <td>0.0</td>\n",
       "      <td>0.0</td>\n",
       "      <td>0.0</td>\n",
       "      <td>1.0</td>\n",
       "      <td>NaN</td>\n",
       "      <td>NaN</td>\n",
       "      <td>NaN</td>\n",
       "      <td>NaN</td>\n",
       "      <td>NaN</td>\n",
       "      <td>NaN</td>\n",
       "    </tr>\n",
       "    <tr>\n",
       "      <th>2</th>\n",
       "      <td>201901</td>\n",
       "      <td>65751</td>\n",
       "      <td>1</td>\n",
       "      <td>342.99</td>\n",
       "      <td>687.0</td>\n",
       "      <td>3083.0</td>\n",
       "      <td>4600</td>\n",
       "      <td>65751_201901</td>\n",
       "      <td>1</td>\n",
       "      <td>NaN</td>\n",
       "      <td>...</td>\n",
       "      <td>NaN</td>\n",
       "      <td>NaN</td>\n",
       "      <td>NaN</td>\n",
       "      <td>NaN</td>\n",
       "      <td>NaN</td>\n",
       "      <td>NaN</td>\n",
       "      <td>NaN</td>\n",
       "      <td>NaN</td>\n",
       "      <td>NaN</td>\n",
       "      <td>NaN</td>\n",
       "    </tr>\n",
       "    <tr>\n",
       "      <th>3</th>\n",
       "      <td>201901</td>\n",
       "      <td>58047</td>\n",
       "      <td>0</td>\n",
       "      <td>-5.00</td>\n",
       "      <td>182.0</td>\n",
       "      <td>1814.0</td>\n",
       "      <td>3600</td>\n",
       "      <td>58047_201901</td>\n",
       "      <td>0</td>\n",
       "      <td>0.0</td>\n",
       "      <td>...</td>\n",
       "      <td>0.0</td>\n",
       "      <td>0.0</td>\n",
       "      <td>0.0</td>\n",
       "      <td>1.0</td>\n",
       "      <td>NaN</td>\n",
       "      <td>NaN</td>\n",
       "      <td>NaN</td>\n",
       "      <td>NaN</td>\n",
       "      <td>NaN</td>\n",
       "      <td>NaN</td>\n",
       "    </tr>\n",
       "    <tr>\n",
       "      <th>4</th>\n",
       "      <td>201901</td>\n",
       "      <td>113221</td>\n",
       "      <td>0</td>\n",
       "      <td>-5.00</td>\n",
       "      <td>582.0</td>\n",
       "      <td>2153.0</td>\n",
       "      <td>4300</td>\n",
       "      <td>113221_201901</td>\n",
       "      <td>0</td>\n",
       "      <td>0.0</td>\n",
       "      <td>...</td>\n",
       "      <td>0.0</td>\n",
       "      <td>0.0</td>\n",
       "      <td>0.0</td>\n",
       "      <td>1.0</td>\n",
       "      <td>0.0</td>\n",
       "      <td>0.0</td>\n",
       "      <td>1.5</td>\n",
       "      <td>0.0</td>\n",
       "      <td>0.0</td>\n",
       "      <td>1.0</td>\n",
       "    </tr>\n",
       "  </tbody>\n",
       "</table>\n",
       "<p>5 rows × 78 columns</p>\n",
       "</div>"
      ],
      "text/plain": [
       "   codmes  id_persona  codtarget  margen    cem  ingreso_neto  linea_ofrecida  \\\n",
       "0  201901      165747          0   -5.00    1.0        1781.0            1700   \n",
       "1  201903      100117          0   -5.00  478.0        2106.0            2100   \n",
       "2  201901       65751          1  342.99  687.0        3083.0            4600   \n",
       "3  201901       58047          0   -5.00  182.0        1814.0            3600   \n",
       "4  201901      113221          0   -5.00  582.0        2153.0            4300   \n",
       "\n",
       "   prediction_id  target  ABP        ...          TELEVENTAS  Upgrade  \\\n",
       "0  165747_201901       0  0.0        ...                 0.0      0.0   \n",
       "1  100117_201903       0  0.0        ...                 0.0      0.0   \n",
       "2   65751_201901       1  NaN        ...                 NaN      NaN   \n",
       "3   58047_201901       0  0.0        ...                 0.0      0.0   \n",
       "4  113221_201901       0  0.0        ...                 0.0      0.0   \n",
       "\n",
       "   Upgrade TC  presencia_complementos  simu_prestamo  numero_arribadas  \\\n",
       "0         0.0                     1.0            NaN               NaN   \n",
       "1         0.0                     1.0            NaN               NaN   \n",
       "2         NaN                     NaN            NaN               NaN   \n",
       "3         0.0                     1.0            NaN               NaN   \n",
       "4         0.0                     1.0            0.0               0.0   \n",
       "\n",
       "   numero_sesiones  tiempo_visita  numero_buscadores  presencia_digital  \n",
       "0              NaN            NaN                NaN                NaN  \n",
       "1              NaN            NaN                NaN                NaN  \n",
       "2              NaN            NaN                NaN                NaN  \n",
       "3              NaN            NaN                NaN                NaN  \n",
       "4              1.5            0.0                0.0                1.0  \n",
       "\n",
       "[5 rows x 78 columns]"
      ]
     },
     "execution_count": 33,
     "metadata": {},
     "output_type": "execute_result"
    }
   ],
   "source": [
    "train.head()"
   ]
  },
  {
   "cell_type": "markdown",
   "metadata": {},
   "source": [
    "# Base de datos sunat reniec y vehicular\n"
   ]
  },
  {
   "cell_type": "code",
   "execution_count": 21,
   "metadata": {},
   "outputs": [],
   "source": [
    "sunat = pd.read_csv(\"ib_base_sunat.csv\")\n",
    "reniec = pd.read_csv(\"ib_base_reniec.csv\")\n",
    "vehicular = pd.read_csv(\"ib_base_vehicular.csv\")"
   ]
  },
  {
   "cell_type": "code",
   "execution_count": 35,
   "metadata": {},
   "outputs": [
    {
     "data": {
      "text/html": [
       "<div>\n",
       "<style scoped>\n",
       "    .dataframe tbody tr th:only-of-type {\n",
       "        vertical-align: middle;\n",
       "    }\n",
       "\n",
       "    .dataframe tbody tr th {\n",
       "        vertical-align: top;\n",
       "    }\n",
       "\n",
       "    .dataframe thead th {\n",
       "        text-align: right;\n",
       "    }\n",
       "</style>\n",
       "<table border=\"1\" class=\"dataframe\">\n",
       "  <thead>\n",
       "    <tr style=\"text-align: right;\">\n",
       "      <th></th>\n",
       "      <th>id_persona</th>\n",
       "      <th>soc_var1</th>\n",
       "      <th>soc_var2</th>\n",
       "      <th>soc_var3</th>\n",
       "      <th>soc_var4</th>\n",
       "      <th>soc_var5</th>\n",
       "      <th>soc_var6</th>\n",
       "    </tr>\n",
       "  </thead>\n",
       "  <tbody>\n",
       "    <tr>\n",
       "      <th>0</th>\n",
       "      <td>219861</td>\n",
       "      <td>0.886792</td>\n",
       "      <td>4</td>\n",
       "      <td>2</td>\n",
       "      <td>6</td>\n",
       "      <td>5</td>\n",
       "      <td>10.0</td>\n",
       "    </tr>\n",
       "    <tr>\n",
       "      <th>1</th>\n",
       "      <td>105627</td>\n",
       "      <td>0.641509</td>\n",
       "      <td>4</td>\n",
       "      <td>2</td>\n",
       "      <td>1</td>\n",
       "      <td>2</td>\n",
       "      <td>8.0</td>\n",
       "    </tr>\n",
       "    <tr>\n",
       "      <th>2</th>\n",
       "      <td>94514</td>\n",
       "      <td>0.490566</td>\n",
       "      <td>4</td>\n",
       "      <td>2</td>\n",
       "      <td>6</td>\n",
       "      <td>5</td>\n",
       "      <td>10.0</td>\n",
       "    </tr>\n",
       "    <tr>\n",
       "      <th>3</th>\n",
       "      <td>55357</td>\n",
       "      <td>0.584906</td>\n",
       "      <td>4</td>\n",
       "      <td>2</td>\n",
       "      <td>6</td>\n",
       "      <td>5</td>\n",
       "      <td>1.0</td>\n",
       "    </tr>\n",
       "    <tr>\n",
       "      <th>4</th>\n",
       "      <td>79861</td>\n",
       "      <td>0.603774</td>\n",
       "      <td>4</td>\n",
       "      <td>1</td>\n",
       "      <td>6</td>\n",
       "      <td>5</td>\n",
       "      <td>9.0</td>\n",
       "    </tr>\n",
       "  </tbody>\n",
       "</table>\n",
       "</div>"
      ],
      "text/plain": [
       "   id_persona  soc_var1  soc_var2  soc_var3  soc_var4  soc_var5  soc_var6\n",
       "0      219861  0.886792         4         2         6         5      10.0\n",
       "1      105627  0.641509         4         2         1         2       8.0\n",
       "2       94514  0.490566         4         2         6         5      10.0\n",
       "3       55357  0.584906         4         2         6         5       1.0\n",
       "4       79861  0.603774         4         1         6         5       9.0"
      ]
     },
     "execution_count": 35,
     "metadata": {},
     "output_type": "execute_result"
    }
   ],
   "source": [
    "reniec.head()"
   ]
  },
  {
   "cell_type": "code",
   "execution_count": 41,
   "metadata": {},
   "outputs": [
    {
     "data": {
      "text/plain": [
       "id_persona     0.0\n",
       "activ_econo    0.0\n",
       "meses_alta     0.0\n",
       "dtype: float64"
      ]
     },
     "execution_count": 41,
     "metadata": {},
     "output_type": "execute_result"
    }
   ],
   "source": [
    "sunat.isnull().sum()/len(sunat)"
   ]
  },
  {
   "cell_type": "code",
   "execution_count": 42,
   "metadata": {},
   "outputs": [
    {
     "data": {
      "text/plain": [
       "id_persona    0.000000\n",
       "marca         0.000728\n",
       "veh_var1      0.056644\n",
       "veh_var2      0.037295\n",
       "dtype: float64"
      ]
     },
     "execution_count": 42,
     "metadata": {},
     "output_type": "execute_result"
    }
   ],
   "source": [
    "vehicular.isnull().sum()/len(vehicular)"
   ]
  },
  {
   "cell_type": "markdown",
   "metadata": {},
   "source": [
    "# Creando clusters en la base de datos reniec"
   ]
  },
  {
   "cell_type": "markdown",
   "metadata": {},
   "source": [
    "Imputando los valores por la mediana.int"
   ]
  },
  {
   "cell_type": "code",
   "execution_count": 36,
   "metadata": {},
   "outputs": [
    {
     "data": {
      "text/plain": [
       "id_persona    0.000000\n",
       "soc_var1      0.000000\n",
       "soc_var2      0.000000\n",
       "soc_var3      0.000000\n",
       "soc_var4      0.000000\n",
       "soc_var5      0.000000\n",
       "soc_var6      0.045804\n",
       "dtype: float64"
      ]
     },
     "execution_count": 36,
     "metadata": {},
     "output_type": "execute_result"
    }
   ],
   "source": [
    "reniec.isnull().sum()/len(reniec)"
   ]
  },
  {
   "cell_type": "code",
   "execution_count": 22,
   "metadata": {},
   "outputs": [],
   "source": [
    "reniec.soc_var6 = reniec.soc_var6.fillna(reniec.soc_var6.median())"
   ]
  },
  {
   "cell_type": "markdown",
   "metadata": {},
   "source": [
    "Creando cluster con de personas en la base de datos reniec: la idea básica es crear grupos de personas que tengan caracteristicas semejantes para luego agruparlos, así entonces encontrar si existe similitud entre los clientes y los no clientes."
   ]
  },
  {
   "cell_type": "code",
   "execution_count": 23,
   "metadata": {},
   "outputs": [],
   "source": [
    "from sklearn.cluster import KMeans\n",
    "# Colocaremos 2 como número de clusters\n",
    "kmeans = KMeans(n_clusters=2)\n",
    "# imprimiendo \n",
    "kmeans = kmeans.fit(reniec.drop([\"id_persona\"],axis=1))\n",
    "# Getting the cluster labels\n",
    "labels = kmeans.predict(reniec.drop([\"id_persona\"],axis=1))\n"
   ]
  },
  {
   "cell_type": "code",
   "execution_count": 39,
   "metadata": {},
   "outputs": [
    {
     "data": {
      "text/html": [
       "<div>\n",
       "<style scoped>\n",
       "    .dataframe tbody tr th:only-of-type {\n",
       "        vertical-align: middle;\n",
       "    }\n",
       "\n",
       "    .dataframe tbody tr th {\n",
       "        vertical-align: top;\n",
       "    }\n",
       "\n",
       "    .dataframe thead th {\n",
       "        text-align: right;\n",
       "    }\n",
       "</style>\n",
       "<table border=\"1\" class=\"dataframe\">\n",
       "  <thead>\n",
       "    <tr style=\"text-align: right;\">\n",
       "      <th>col_0</th>\n",
       "      <th>cluster</th>\n",
       "    </tr>\n",
       "    <tr>\n",
       "      <th>row_0</th>\n",
       "      <th></th>\n",
       "    </tr>\n",
       "  </thead>\n",
       "  <tbody>\n",
       "    <tr>\n",
       "      <th>0</th>\n",
       "      <td>114743</td>\n",
       "    </tr>\n",
       "    <tr>\n",
       "      <th>1</th>\n",
       "      <td>141608</td>\n",
       "    </tr>\n",
       "  </tbody>\n",
       "</table>\n",
       "</div>"
      ],
      "text/plain": [
       "col_0  cluster\n",
       "row_0         \n",
       "0       114743\n",
       "1       141608"
      ]
     },
     "execution_count": 39,
     "metadata": {},
     "output_type": "execute_result"
    }
   ],
   "source": [
    "pd.crosstab(labels,columns=\"cluster\")"
   ]
  },
  {
   "cell_type": "code",
   "execution_count": 24,
   "metadata": {},
   "outputs": [],
   "source": [
    "reniec[\"cluster\"]=labels"
   ]
  },
  {
   "cell_type": "code",
   "execution_count": 25,
   "metadata": {},
   "outputs": [],
   "source": [
    "sunat[\"presencia_sunat\"]=1\n",
    "reniec[\"presencia_reniec\"]=1\n",
    "vehicular[\"presencia_vehicular\"]=1"
   ]
  },
  {
   "cell_type": "code",
   "execution_count": 26,
   "metadata": {},
   "outputs": [],
   "source": [
    "sunat_activ_econo_one_hot = pd.get_dummies(sunat.activ_econo) \n",
    "sunat_activ_econo_one_hot = pd.concat([sunat_activ_econo_one_hot,sunat.id_persona],axis=1)\n",
    "sunat_activ_econo_one_hot =sunat_activ_econo_one_hot.loc[sunat_activ_econo_one_hot.id_persona.duplicated()==False,].set_index(\"id_persona\")\n",
    "sunat_años_alta = (sunat.groupby([\"id_persona\"]).meses_alta.mean()/12)\n",
    "sunat_años_alta = pd.DataFrame(sunat_años_alta)\n",
    "sunat_presencia_sunat = sunat.loc[sunat.id_persona.duplicated()==False,].set_index(\"id_persona\")[\"presencia_sunat\"]\n",
    "sunat_presencia_sunat = pd.DataFrame(sunat_presencia_sunat)\n",
    "vehicular1 = vehicular.groupby([\"id_persona\", \"marca\"]).veh_var1.sum().unstack(level=1, fill_value=0).astype(\"float32\")\n",
    "vehicular2 = vehicular.groupby([\"id_persona\", \"marca\"]).veh_var2.sum().unstack(level=1, fill_value=0).astype(\"float32\")\n",
    "vehicular_presencia_vehicular = vehicular.loc[vehicular.id_persona.duplicated()==False,].set_index(\"id_persona\")[\"presencia_vehicular\"]\n",
    "vehicular_presencia_vehicular = pd.DataFrame(vehicular_presencia_vehicular)\n",
    "reniec = reniec.set_index(\"id_persona\").astype(\"float32\")\n",
    "del vehicular "
   ]
  },
  {
   "cell_type": "code",
   "execution_count": 27,
   "metadata": {},
   "outputs": [],
   "source": [
    "vehicular1.columns = [c + \"_v1\" for c in vehicular1.columns]\n",
    "vehicular2.columns = [c + \"_v2\" for c in vehicular2.columns]\n",
    "sunat_activ_econo_one_hot.columns = [c + \"__sunat\" for c in sunat_activ_econo_one_hot.columns]"
   ]
  },
  {
   "cell_type": "code",
   "execution_count": 28,
   "metadata": {},
   "outputs": [
    {
     "data": {
      "text/plain": [
       "1204"
      ]
     },
     "execution_count": 28,
     "metadata": {},
     "output_type": "execute_result"
    }
   ],
   "source": [
    "len(vehicular1.columns)+len(vehicular2.columns)+len(sunat_activ_econo_one_hot.columns)+len(reniec.columns)"
   ]
  },
  {
   "cell_type": "code",
   "execution_count": 29,
   "metadata": {},
   "outputs": [],
   "source": [
    "vehicular1.shape\n",
    "vehicular1 = vehicular1.loc[:,vehicular1.var()!=0]\n",
    "vehicular2 = vehicular2.loc[:,vehicular2.var()!=0]\n"
   ]
  },
  {
   "cell_type": "code",
   "execution_count": 30,
   "metadata": {},
   "outputs": [],
   "source": [
    "train = train.set_index(\"id_persona\").join(vehicular1).join(vehicular2).join(reniec).join(sunat_años_alta).join(sunat_activ_econo_one_hot).join(sunat_presencia_sunat).join(vehicular_presencia_vehicular)\n",
    "test = test.set_index(\"id_persona\").join(vehicular1).join(vehicular2).join(reniec).join(sunat_años_alta).join(sunat_activ_econo_one_hot).join(sunat_presencia_sunat).join(vehicular_presencia_vehicular)\n",
    "train = train.reset_index().set_index(\"prediction_id\")\n",
    "test = test.reset_index().set_index(\"prediction_id\")\n",
    "del vehicular1, vehicular2, reniec, sunat, sunat_años_alta, sunat_activ_econo_one_hot, vehicular_presencia_vehicular, sunat_presencia_sunat"
   ]
  },
  {
   "cell_type": "code",
   "execution_count": 31,
   "metadata": {},
   "outputs": [
    {
     "data": {
      "text/plain": [
       "((212665, 1164), (178685, 1161))"
      ]
     },
     "execution_count": 31,
     "metadata": {},
     "output_type": "execute_result"
    }
   ],
   "source": [
    "train.shape,test.shape"
   ]
  },
  {
   "cell_type": "code",
   "execution_count": 60,
   "metadata": {},
   "outputs": [
    {
     "data": {
      "text/html": [
       "<div>\n",
       "<style scoped>\n",
       "    .dataframe tbody tr th:only-of-type {\n",
       "        vertical-align: middle;\n",
       "    }\n",
       "\n",
       "    .dataframe tbody tr th {\n",
       "        vertical-align: top;\n",
       "    }\n",
       "\n",
       "    .dataframe thead th {\n",
       "        text-align: right;\n",
       "    }\n",
       "</style>\n",
       "<table border=\"1\" class=\"dataframe\">\n",
       "  <thead>\n",
       "    <tr style=\"text-align: right;\">\n",
       "      <th></th>\n",
       "      <th>id_persona</th>\n",
       "      <th>codmes</th>\n",
       "      <th>cem</th>\n",
       "      <th>ingreso_neto</th>\n",
       "      <th>linea_ofrecida</th>\n",
       "      <th>ABP</th>\n",
       "      <th>AC_PROV</th>\n",
       "      <th>BANCA TELEFONICA</th>\n",
       "      <th>BOLSA</th>\n",
       "      <th>BOLSA(EX)</th>\n",
       "      <th>...</th>\n",
       "      <th>Grupo_11__sunat</th>\n",
       "      <th>Grupo_12__sunat</th>\n",
       "      <th>Grupo_13__sunat</th>\n",
       "      <th>Grupo_14__sunat</th>\n",
       "      <th>Grupo_15__sunat</th>\n",
       "      <th>Grupo_16__sunat</th>\n",
       "      <th>Grupo_17__sunat</th>\n",
       "      <th>Otros__sunat</th>\n",
       "      <th>presencia_sunat</th>\n",
       "      <th>presencia_vehicular</th>\n",
       "    </tr>\n",
       "    <tr>\n",
       "      <th>prediction_id</th>\n",
       "      <th></th>\n",
       "      <th></th>\n",
       "      <th></th>\n",
       "      <th></th>\n",
       "      <th></th>\n",
       "      <th></th>\n",
       "      <th></th>\n",
       "      <th></th>\n",
       "      <th></th>\n",
       "      <th></th>\n",
       "      <th></th>\n",
       "      <th></th>\n",
       "      <th></th>\n",
       "      <th></th>\n",
       "      <th></th>\n",
       "      <th></th>\n",
       "      <th></th>\n",
       "      <th></th>\n",
       "      <th></th>\n",
       "      <th></th>\n",
       "      <th></th>\n",
       "    </tr>\n",
       "  </thead>\n",
       "  <tbody>\n",
       "    <tr>\n",
       "      <th>1_201906</th>\n",
       "      <td>1</td>\n",
       "      <td>201906</td>\n",
       "      <td>218.0</td>\n",
       "      <td>2662.0</td>\n",
       "      <td>9300</td>\n",
       "      <td>0.0</td>\n",
       "      <td>0.0</td>\n",
       "      <td>0.0</td>\n",
       "      <td>0.0</td>\n",
       "      <td>0.0</td>\n",
       "      <td>...</td>\n",
       "      <td>0.0</td>\n",
       "      <td>0.0</td>\n",
       "      <td>0.0</td>\n",
       "      <td>0.0</td>\n",
       "      <td>1.0</td>\n",
       "      <td>0.0</td>\n",
       "      <td>0.0</td>\n",
       "      <td>0.0</td>\n",
       "      <td>1.0</td>\n",
       "      <td>NaN</td>\n",
       "    </tr>\n",
       "    <tr>\n",
       "      <th>4_201906</th>\n",
       "      <td>4</td>\n",
       "      <td>201906</td>\n",
       "      <td>75.0</td>\n",
       "      <td>1717.0</td>\n",
       "      <td>1000</td>\n",
       "      <td>0.0</td>\n",
       "      <td>0.0</td>\n",
       "      <td>0.0</td>\n",
       "      <td>0.0</td>\n",
       "      <td>0.0</td>\n",
       "      <td>...</td>\n",
       "      <td>NaN</td>\n",
       "      <td>NaN</td>\n",
       "      <td>NaN</td>\n",
       "      <td>NaN</td>\n",
       "      <td>NaN</td>\n",
       "      <td>NaN</td>\n",
       "      <td>NaN</td>\n",
       "      <td>NaN</td>\n",
       "      <td>NaN</td>\n",
       "      <td>NaN</td>\n",
       "    </tr>\n",
       "    <tr>\n",
       "      <th>4_201905</th>\n",
       "      <td>4</td>\n",
       "      <td>201905</td>\n",
       "      <td>62.0</td>\n",
       "      <td>1700.0</td>\n",
       "      <td>1000</td>\n",
       "      <td>0.0</td>\n",
       "      <td>0.0</td>\n",
       "      <td>0.0</td>\n",
       "      <td>0.0</td>\n",
       "      <td>0.0</td>\n",
       "      <td>...</td>\n",
       "      <td>NaN</td>\n",
       "      <td>NaN</td>\n",
       "      <td>NaN</td>\n",
       "      <td>NaN</td>\n",
       "      <td>NaN</td>\n",
       "      <td>NaN</td>\n",
       "      <td>NaN</td>\n",
       "      <td>NaN</td>\n",
       "      <td>NaN</td>\n",
       "      <td>NaN</td>\n",
       "    </tr>\n",
       "    <tr>\n",
       "      <th>6_201906</th>\n",
       "      <td>6</td>\n",
       "      <td>201906</td>\n",
       "      <td>908.0</td>\n",
       "      <td>2232.0</td>\n",
       "      <td>7800</td>\n",
       "      <td>NaN</td>\n",
       "      <td>NaN</td>\n",
       "      <td>NaN</td>\n",
       "      <td>NaN</td>\n",
       "      <td>NaN</td>\n",
       "      <td>...</td>\n",
       "      <td>0.0</td>\n",
       "      <td>0.0</td>\n",
       "      <td>1.0</td>\n",
       "      <td>0.0</td>\n",
       "      <td>0.0</td>\n",
       "      <td>0.0</td>\n",
       "      <td>0.0</td>\n",
       "      <td>0.0</td>\n",
       "      <td>1.0</td>\n",
       "      <td>1.0</td>\n",
       "    </tr>\n",
       "    <tr>\n",
       "      <th>7_201905</th>\n",
       "      <td>7</td>\n",
       "      <td>201905</td>\n",
       "      <td>90.0</td>\n",
       "      <td>1072.0</td>\n",
       "      <td>2100</td>\n",
       "      <td>NaN</td>\n",
       "      <td>NaN</td>\n",
       "      <td>NaN</td>\n",
       "      <td>NaN</td>\n",
       "      <td>NaN</td>\n",
       "      <td>...</td>\n",
       "      <td>NaN</td>\n",
       "      <td>NaN</td>\n",
       "      <td>NaN</td>\n",
       "      <td>NaN</td>\n",
       "      <td>NaN</td>\n",
       "      <td>NaN</td>\n",
       "      <td>NaN</td>\n",
       "      <td>NaN</td>\n",
       "      <td>NaN</td>\n",
       "      <td>NaN</td>\n",
       "    </tr>\n",
       "  </tbody>\n",
       "</table>\n",
       "<p>5 rows × 1161 columns</p>\n",
       "</div>"
      ],
      "text/plain": [
       "               id_persona  codmes    cem  ingreso_neto  linea_ofrecida  ABP  \\\n",
       "prediction_id                                                                 \n",
       "1_201906                1  201906  218.0        2662.0            9300  0.0   \n",
       "4_201906                4  201906   75.0        1717.0            1000  0.0   \n",
       "4_201905                4  201905   62.0        1700.0            1000  0.0   \n",
       "6_201906                6  201906  908.0        2232.0            7800  NaN   \n",
       "7_201905                7  201905   90.0        1072.0            2100  NaN   \n",
       "\n",
       "               AC_PROV  BANCA TELEFONICA  BOLSA  BOLSA(EX)  \\\n",
       "prediction_id                                                \n",
       "1_201906           0.0               0.0    0.0        0.0   \n",
       "4_201906           0.0               0.0    0.0        0.0   \n",
       "4_201905           0.0               0.0    0.0        0.0   \n",
       "6_201906           NaN               NaN    NaN        NaN   \n",
       "7_201905           NaN               NaN    NaN        NaN   \n",
       "\n",
       "                      ...           Grupo_11__sunat  Grupo_12__sunat  \\\n",
       "prediction_id         ...                                              \n",
       "1_201906              ...                       0.0              0.0   \n",
       "4_201906              ...                       NaN              NaN   \n",
       "4_201905              ...                       NaN              NaN   \n",
       "6_201906              ...                       0.0              0.0   \n",
       "7_201905              ...                       NaN              NaN   \n",
       "\n",
       "               Grupo_13__sunat  Grupo_14__sunat  Grupo_15__sunat  \\\n",
       "prediction_id                                                      \n",
       "1_201906                   0.0              0.0              1.0   \n",
       "4_201906                   NaN              NaN              NaN   \n",
       "4_201905                   NaN              NaN              NaN   \n",
       "6_201906                   1.0              0.0              0.0   \n",
       "7_201905                   NaN              NaN              NaN   \n",
       "\n",
       "               Grupo_16__sunat  Grupo_17__sunat  Otros__sunat  \\\n",
       "prediction_id                                                   \n",
       "1_201906                   0.0              0.0           0.0   \n",
       "4_201906                   NaN              NaN           NaN   \n",
       "4_201905                   NaN              NaN           NaN   \n",
       "6_201906                   0.0              0.0           0.0   \n",
       "7_201905                   NaN              NaN           NaN   \n",
       "\n",
       "               presencia_sunat  presencia_vehicular  \n",
       "prediction_id                                        \n",
       "1_201906                   1.0                  NaN  \n",
       "4_201906                   NaN                  NaN  \n",
       "4_201905                   NaN                  NaN  \n",
       "6_201906                   1.0                  1.0  \n",
       "7_201905                   NaN                  NaN  \n",
       "\n",
       "[5 rows x 1161 columns]"
      ]
     },
     "execution_count": 60,
     "metadata": {},
     "output_type": "execute_result"
    }
   ],
   "source": [
    "test.head()"
   ]
  },
  {
   "cell_type": "code",
   "execution_count": 61,
   "metadata": {
    "scrolled": true
   },
   "outputs": [
    {
     "data": {
      "text/plain": [
       "id_persona             0.000000\n",
       "codmes                 0.000000\n",
       "codtarget              0.000000\n",
       "margen                 0.000000\n",
       "cem                    0.000000\n",
       "ingreso_neto           0.000000\n",
       "linea_ofrecida         0.000000\n",
       "target                 0.000000\n",
       "ABP                    0.233179\n",
       "AC_PROV                0.233179\n",
       "BANCA TELEFONICA       0.233179\n",
       "BOLSA                  0.233179\n",
       "BOLSA(EX)              0.233179\n",
       "CARTERA                0.233179\n",
       "CARTERAS               0.233179\n",
       "CAV                    0.233179\n",
       "EBP                    0.233179\n",
       "EBP_LIMA               0.233179\n",
       "ER                     0.233179\n",
       "EXPRESS                0.233179\n",
       "EXPRESS ABP            0.233179\n",
       "EXPRESS-ABP            0.233179\n",
       "FFVV                   0.233179\n",
       "GT                     0.233179\n",
       "RED DE TIENDAS         0.233179\n",
       "RED_DE_TIENDAS         0.233179\n",
       "S1P                    0.233179\n",
       "SOMOS_UNO_PROVINCIA    0.233179\n",
       "TELEVENTAS             0.233179\n",
       "TLV                    0.233179\n",
       "                         ...   \n",
       "ZXAUTO_v2              0.788926\n",
       "soc_var1               0.000047\n",
       "soc_var2               0.000047\n",
       "soc_var3               0.000047\n",
       "soc_var4               0.000047\n",
       "soc_var5               0.000047\n",
       "soc_var6               0.000047\n",
       "cluster                0.000047\n",
       "presencia_reniec       0.000047\n",
       "meses_alta             0.217516\n",
       "Grupo_01__sunat        0.217516\n",
       "Grupo_02__sunat        0.217516\n",
       "Grupo_03__sunat        0.217516\n",
       "Grupo_04__sunat        0.217516\n",
       "Grupo_05__sunat        0.217516\n",
       "Grupo_06__sunat        0.217516\n",
       "Grupo_07__sunat        0.217516\n",
       "Grupo_08__sunat        0.217516\n",
       "Grupo_09__sunat        0.217516\n",
       "Grupo_10__sunat        0.217516\n",
       "Grupo_11__sunat        0.217516\n",
       "Grupo_12__sunat        0.217516\n",
       "Grupo_13__sunat        0.217516\n",
       "Grupo_14__sunat        0.217516\n",
       "Grupo_15__sunat        0.217516\n",
       "Grupo_16__sunat        0.217516\n",
       "Grupo_17__sunat        0.217516\n",
       "Otros__sunat           0.217516\n",
       "presencia_sunat        0.217516\n",
       "presencia_vehicular    0.788813\n",
       "Length: 1164, dtype: float64"
      ]
     },
     "execution_count": 61,
     "metadata": {},
     "output_type": "execute_result"
    }
   ],
   "source": [
    "train.isnull().sum()/len(train.AC_PROV)"
   ]
  },
  {
   "cell_type": "code",
   "execution_count": 42,
   "metadata": {
    "scrolled": true
   },
   "outputs": [
    {
     "data": {
      "text/plain": [
       "id_persona             0.000000\n",
       "codmes                 0.000000\n",
       "cem                    0.000000\n",
       "ingreso_neto           0.000000\n",
       "linea_ofrecida         0.000000\n",
       "ABP                    0.155611\n",
       "AC_PROV                0.155611\n",
       "BANCA TELEFONICA       0.155611\n",
       "BOLSA                  0.155611\n",
       "BOLSA(EX)              0.155611\n",
       "CARTERA                0.155611\n",
       "CARTERAS               0.155611\n",
       "CAV                    0.155611\n",
       "EBP                    0.155611\n",
       "EBP_LIMA               0.155611\n",
       "ER                     0.155611\n",
       "EXPRESS                0.155611\n",
       "EXPRESS ABP            0.155611\n",
       "EXPRESS-ABP            0.155611\n",
       "FFVV                   0.155611\n",
       "GT                     0.155611\n",
       "RED DE TIENDAS         0.155611\n",
       "RED_DE_TIENDAS         0.155611\n",
       "S1P                    0.155611\n",
       "SOMOS_UNO_PROVINCIA    0.155611\n",
       "TELEVENTAS             0.155611\n",
       "TLV                    0.155611\n",
       "TLV CD                 0.155611\n",
       "TLV SEGMENTOS          0.155611\n",
       "Adelanto de Sueldo     0.176460\n",
       "                         ...   \n",
       "ZONGQING_v2            0.806834\n",
       "ZONGSHEN_v2            0.806834\n",
       "ZOTYE_v2               0.806834\n",
       "ZS_v2                  0.806834\n",
       "ZXAUTO_v2              0.806834\n",
       "soc_var1               0.000129\n",
       "soc_var2               0.000129\n",
       "soc_var3               0.000129\n",
       "soc_var4               0.000129\n",
       "soc_var5               0.000129\n",
       "soc_var6               0.047622\n",
       "meses_alta             0.244557\n",
       "Grupo_01__sunat        0.244557\n",
       "Grupo_02__sunat        0.244557\n",
       "Grupo_03__sunat        0.244557\n",
       "Grupo_04__sunat        0.244557\n",
       "Grupo_05__sunat        0.244557\n",
       "Grupo_06__sunat        0.244557\n",
       "Grupo_07__sunat        0.244557\n",
       "Grupo_08__sunat        0.244557\n",
       "Grupo_09__sunat        0.244557\n",
       "Grupo_10__sunat        0.244557\n",
       "Grupo_11__sunat        0.244557\n",
       "Grupo_12__sunat        0.244557\n",
       "Grupo_13__sunat        0.244557\n",
       "Grupo_14__sunat        0.244557\n",
       "Grupo_15__sunat        0.244557\n",
       "Grupo_16__sunat        0.244557\n",
       "Grupo_17__sunat        0.244557\n",
       "Otros__sunat           0.244557\n",
       "Length: 1017, dtype: float64"
      ]
     },
     "execution_count": 42,
     "metadata": {},
     "output_type": "execute_result"
    }
   ],
   "source": [
    "test.isnull().sum()/len(test.AC_PROV)"
   ]
  },
  {
   "cell_type": "code",
   "execution_count": null,
   "metadata": {},
   "outputs": [],
   "source": [
    "# liberando memoria"
   ]
  },
  {
   "cell_type": "code",
   "execution_count": 32,
   "metadata": {},
   "outputs": [],
   "source": [
    "train[[\"presencia_digital\",\"presencia_complementos\",\"presencia_sunat\",\"presencia_reniec\",\"presencia_vehicular\"]] = train[[\"presencia_digital\",\"presencia_complementos\",\"presencia_sunat\",\"presencia_reniec\",\"presencia_vehicular\"]].fillna(0)\n",
    "test[[\"presencia_digital\",\"presencia_complementos\",\"presencia_sunat\",\"presencia_reniec\",\"presencia_vehicular\"]] = test[[\"presencia_digital\",\"presencia_complementos\",\"presencia_sunat\",\"presencia_reniec\",\"presencia_vehicular\"]].fillna(0)"
   ]
  },
  {
   "cell_type": "code",
   "execution_count": 33,
   "metadata": {},
   "outputs": [],
   "source": [
    "var = test.loc[:,test.var()==0].columns"
   ]
  },
  {
   "cell_type": "code",
   "execution_count": 34,
   "metadata": {},
   "outputs": [],
   "source": [
    "test = test.drop(var,axis=1)\n",
    "train = train.drop(var,axis=1)\n",
    "del var"
   ]
  },
  {
   "cell_type": "code",
   "execution_count": 35,
   "metadata": {},
   "outputs": [
    {
     "data": {
      "text/plain": [
       "((212665, 979), (178685, 976))"
      ]
     },
     "execution_count": 35,
     "metadata": {},
     "output_type": "execute_result"
    }
   ],
   "source": [
    "train.shape,test.shape"
   ]
  },
  {
   "cell_type": "markdown",
   "metadata": {},
   "source": [
    "# Base de datos rcc"
   ]
  },
  {
   "cell_type": "code",
   "execution_count": 36,
   "metadata": {},
   "outputs": [],
   "source": [
    "rcc = pd.read_csv(\"ib_base_rcc.csv\")"
   ]
  },
  {
   "cell_type": "code",
   "execution_count": 57,
   "metadata": {},
   "outputs": [
    {
     "data": {
      "text/html": [
       "<div>\n",
       "<style scoped>\n",
       "    .dataframe tbody tr th:only-of-type {\n",
       "        vertical-align: middle;\n",
       "    }\n",
       "\n",
       "    .dataframe tbody tr th {\n",
       "        vertical-align: top;\n",
       "    }\n",
       "\n",
       "    .dataframe thead th {\n",
       "        text-align: right;\n",
       "    }\n",
       "</style>\n",
       "<table border=\"1\" class=\"dataframe\">\n",
       "  <thead>\n",
       "    <tr style=\"text-align: right;\">\n",
       "      <th></th>\n",
       "      <th>codmes</th>\n",
       "      <th>id_persona</th>\n",
       "      <th>cod_banco</th>\n",
       "      <th>producto</th>\n",
       "      <th>clasif</th>\n",
       "      <th>mto_saldo</th>\n",
       "      <th>rango_mora</th>\n",
       "    </tr>\n",
       "  </thead>\n",
       "  <tbody>\n",
       "    <tr>\n",
       "      <th>0</th>\n",
       "      <td>201811</td>\n",
       "      <td>10155</td>\n",
       "      <td>29</td>\n",
       "      <td>PRESTAMOS COMERCIALES</td>\n",
       "      <td>0.0</td>\n",
       "      <td>36698.4870</td>\n",
       "      <td>1.0</td>\n",
       "    </tr>\n",
       "    <tr>\n",
       "      <th>1</th>\n",
       "      <td>201804</td>\n",
       "      <td>75442</td>\n",
       "      <td>29</td>\n",
       "      <td>PRESTAMO PERSONAL</td>\n",
       "      <td>0.0</td>\n",
       "      <td>7971.1182</td>\n",
       "      <td>1.0</td>\n",
       "    </tr>\n",
       "    <tr>\n",
       "      <th>2</th>\n",
       "      <td>201902</td>\n",
       "      <td>172772</td>\n",
       "      <td>29</td>\n",
       "      <td>PRESTAMOS COMERCIALES</td>\n",
       "      <td>0.0</td>\n",
       "      <td>821.6077</td>\n",
       "      <td>1.0</td>\n",
       "    </tr>\n",
       "    <tr>\n",
       "      <th>3</th>\n",
       "      <td>201810</td>\n",
       "      <td>187572</td>\n",
       "      <td>29</td>\n",
       "      <td>PRESTAMOS COMERCIALES</td>\n",
       "      <td>0.0</td>\n",
       "      <td>9271.8030</td>\n",
       "      <td>1.0</td>\n",
       "    </tr>\n",
       "    <tr>\n",
       "      <th>4</th>\n",
       "      <td>201903</td>\n",
       "      <td>255598</td>\n",
       "      <td>29</td>\n",
       "      <td>PRESTAMOS COMERCIALES</td>\n",
       "      <td>0.0</td>\n",
       "      <td>10548.7263</td>\n",
       "      <td>1.0</td>\n",
       "    </tr>\n",
       "  </tbody>\n",
       "</table>\n",
       "</div>"
      ],
      "text/plain": [
       "   codmes  id_persona  cod_banco               producto  clasif   mto_saldo  \\\n",
       "0  201811       10155         29  PRESTAMOS COMERCIALES     0.0  36698.4870   \n",
       "1  201804       75442         29      PRESTAMO PERSONAL     0.0   7971.1182   \n",
       "2  201902      172772         29  PRESTAMOS COMERCIALES     0.0    821.6077   \n",
       "3  201810      187572         29  PRESTAMOS COMERCIALES     0.0   9271.8030   \n",
       "4  201903      255598         29  PRESTAMOS COMERCIALES     0.0  10548.7263   \n",
       "\n",
       "   rango_mora  \n",
       "0         1.0  \n",
       "1         1.0  \n",
       "2         1.0  \n",
       "3         1.0  \n",
       "4         1.0  "
      ]
     },
     "execution_count": 57,
     "metadata": {},
     "output_type": "execute_result"
    }
   ],
   "source": [
    "rcc.head()"
   ]
  },
  {
   "cell_type": "code",
   "execution_count": 63,
   "metadata": {},
   "outputs": [
    {
     "data": {
      "text/plain": [
       "codmes        0.000000\n",
       "id_persona    0.000000\n",
       "cod_banco     0.000000\n",
       "producto      0.000000\n",
       "clasif        0.414371\n",
       "mto_saldo     0.000000\n",
       "rango_mora    0.414371\n",
       "dtype: float64"
      ]
     },
     "execution_count": 63,
     "metadata": {},
     "output_type": "execute_result"
    }
   ],
   "source": [
    "rcc.isnull().sum()/len(rcc)"
   ]
  },
  {
   "cell_type": "code",
   "execution_count": 37,
   "metadata": {},
   "outputs": [],
   "source": [
    "rcc_nro_producto = rcc.groupby([\"codmes\", \"id_persona\"]).producto.count().reset_index().set_index(\"codmes\").sort_index().astype(\"int32\")\n",
    "rcc_producto = pd.get_dummies(rcc.producto)\n",
    "rcc_producto = rcc_producto.join(rcc[\"id_persona\"]).join(rcc[\"codmes\"]).set_index(\"codmes\").sort_index().astype(\"int32\")\n",
    "rcc_banco = pd.get_dummies(rcc.cod_banco)\n",
    "rcc_banco.columns = [str(c) + \"_v1\" for c in rcc_banco.columns]\n",
    "rcc_banco = rcc_banco.join(rcc[\"id_persona\"]).join(rcc[\"codmes\"]).set_index(\"codmes\").sort_index().astype(\"int32\")\n",
    "rcc_rango_mto_saldo = rcc.groupby([\"codmes\", \"id_persona\", \"rango_mora\"]).mto_saldo.sum().unstack(level=2, fill_value=0)\n",
    "rcc_rango_mto_saldo.columns =[\"rango_1_saldo\",\"rango_2_saldo\",\"rango_3_saldo\",\"rango_4_saldo\",\"rango_5_saldo\",\"rango_6_saldo\",\"rango_7_saldo\"] \n",
    "rcc_rango_mto_saldo = rcc_rango_mto_saldo.reset_index().set_index(\"codmes\").sort_index().astype(\"int32\")\n",
    "rcc_mto = rcc.groupby([\"codmes\", \"id_persona\"]).mto_saldo.sum().reset_index().set_index(\"codmes\").sort_index().astype(\"int32\")\n",
    "rcc_rango_mora = pd.get_dummies(rcc.rango_mora,prefix_sep=\"rango\")\n",
    "rcc_rango_mora.columns = [\"rango_1\",\"rango_2\",\"rango_3\",\"rango_4\",\"rango_5\",\"rango_6\",\"rango_7\"] \n",
    "rcc_rango_mora = rcc_rango_mora.join(rcc[\"id_persona\"]).join(rcc[\"codmes\"]).set_index(\"codmes\").sort_index().astype(\"int32\")\n",
    "del rcc"
   ]
  },
  {
   "cell_type": "code",
   "execution_count": 38,
   "metadata": {},
   "outputs": [
    {
     "name": "stdout",
     "output_type": "stream",
     "text": [
      "********** 201901 **********\n",
      "********** 201902 **********\n",
      "********** 201903 **********\n",
      "********** 201904 **********\n",
      "********** 201905 **********\n",
      "********** 201906 **********\n",
      "********** 201907 **********\n",
      "contatenando los datos\n"
     ]
    },
    {
     "data": {
      "text/plain": [
       "14"
      ]
     },
     "execution_count": 38,
     "metadata": {},
     "output_type": "execute_result"
    }
   ],
   "source": [
    "import gc\n",
    "gc.collect()\n",
    "\n",
    "meses = {\n",
    "    201901: slice(201807, 201809),\n",
    "    201902: slice(201808, 201810),\n",
    "    201903: slice(201809, 201811),\n",
    "    201904: slice(201810, 201812),\n",
    "    201905: slice(201811, 201901),\n",
    "    201906: slice(201812, 201902),\n",
    "    201907: slice(201901, 201903)\n",
    "}\n",
    "#meses = {\n",
    " #   201901: slice(201808, 201812),\n",
    "  #  201902: slice(201808, 201901),\n",
    "   # 201903: slice(201901, 201902),\n",
    "   # 201904: slice(201901, 201903),\n",
    "   # 201905: slice(201902, 201903),\n",
    "   # 201906: slice(201811, 201904),\n",
    "   #201907: slice(201812, 201904)\n",
    "#}\n",
    "rcc_tc = []\n",
    "for mes in meses.keys():\n",
    "    print(\"*\"*10, mes, \"*\"*10)\n",
    "    res = pd.concat([\n",
    "        rcc_nro_producto.loc[meses[mes]].groupby(\"id_persona\").sum(),\n",
    "        rcc_producto.loc[meses[mes]].groupby(\"id_persona\").sum(),\n",
    "        rcc_banco.loc[meses[mes]].groupby(\"id_persona\").sum(),\n",
    "        rcc_rango_mto_saldo.loc[meses[mes]].groupby(\"id_persona\").mean(),\n",
    "        rcc_mto.loc[meses[mes]].groupby(\"id_persona\").sum(),\n",
    "        rcc_rango_mora.loc[meses[mes]].groupby(\"id_persona\").sum()\n",
    "    ],axis=1)\n",
    "    res[\"codmes\"] = mes\n",
    "    res = res.reset_index().set_index([\"id_persona\", \"codmes\"]).astype(\"float32\")\n",
    "    rcc_tc.append(res)\n",
    "    \n",
    "\n",
    "gc.collect()\n",
    "print(\"contatenando los datos\")\n",
    "rcc_tc = pd.concat(rcc_tc)\n",
    "gc.collect()"
   ]
  },
  {
   "cell_type": "code",
   "execution_count": 80,
   "metadata": {},
   "outputs": [
    {
     "data": {
      "text/plain": [
       "(1541393, 91)"
      ]
     },
     "execution_count": 80,
     "metadata": {},
     "output_type": "execute_result"
    }
   ],
   "source": [
    "rcc_tc.shape"
   ]
  },
  {
   "cell_type": "code",
   "execution_count": 39,
   "metadata": {},
   "outputs": [],
   "source": [
    "rcc_tc = rcc_tc.loc[:,rcc_tc.var()>0.001]"
   ]
  },
  {
   "cell_type": "code",
   "execution_count": 66,
   "metadata": {
    "scrolled": true
   },
   "outputs": [
    {
     "data": {
      "text/plain": [
       "producto                       0.000000\n",
       "CARTAS FIANZAS OTORGADAS       0.000000\n",
       "CREDITOS CASTIGOS              0.000000\n",
       "HIPOTECARIO MIVIVIENDA         0.000000\n",
       "HIPOTECARIO REGULAR            0.000000\n",
       "LINEA TOTAL TC                 0.000000\n",
       "OTROS CREDITOS                 0.000000\n",
       "PRESTAMO PERSONAL              0.000000\n",
       "PRESTAMOS COMERCIALES          0.000000\n",
       "RESTO RD                       0.000000\n",
       "SOBREGIRO                      0.000000\n",
       "TARJETAS COMPRAS               0.000000\n",
       "TARJETAS EFECTIVO              0.000000\n",
       "TARJETAS OTROS CONCEPTOS       0.000000\n",
       "TARJETAS SIN DEFINIR           0.000000\n",
       "TARJETA_EMP COMPRA             0.000000\n",
       "TARJETA_EMP EFECTIVO           0.000000\n",
       "TARJETA_EMP OTROS CONCEPTOS    0.000000\n",
       "TARJETA_EMP SIN DEFINIR        0.000000\n",
       "VEHICULAR                      0.000000\n",
       "2                              0.000000\n",
       "3                              0.000000\n",
       "4                              0.000000\n",
       "5                              0.000000\n",
       "7                              0.000000\n",
       "8                              0.000000\n",
       "10                             0.000000\n",
       "14                             0.000000\n",
       "16                             0.000000\n",
       "17                             0.000000\n",
       "                                 ...   \n",
       "60                             0.000000\n",
       "62                             0.000000\n",
       "64                             0.000000\n",
       "66                             0.000000\n",
       "67                             0.000000\n",
       "68                             0.000000\n",
       "69                             0.000000\n",
       "71                             0.000000\n",
       "74                             0.000000\n",
       "75                             0.000000\n",
       "76                             0.000000\n",
       "77                             0.000000\n",
       "78                             0.000000\n",
       "81                             0.000000\n",
       "82                             0.000000\n",
       "rango_1_saldo                  0.038843\n",
       "rango_2_saldo                  0.038843\n",
       "rango_3_saldo                  0.038843\n",
       "rango_4_saldo                  0.038843\n",
       "rango_5_saldo                  0.038843\n",
       "rango_6_saldo                  0.038843\n",
       "rango_7_saldo                  0.038843\n",
       "mto_saldo                      0.000000\n",
       "rango_1                        0.000000\n",
       "rango_2                        0.000000\n",
       "rango_3                        0.000000\n",
       "rango_4                        0.000000\n",
       "rango_5                        0.000000\n",
       "rango_6                        0.000000\n",
       "rango_7                        0.000000\n",
       "Length: 91, dtype: float64"
      ]
     },
     "execution_count": 66,
     "metadata": {},
     "output_type": "execute_result"
    }
   ],
   "source": [
    "rcc_tc.isnull().sum()/len(rcc_tc)"
   ]
  },
  {
   "cell_type": "code",
   "execution_count": 40,
   "metadata": {},
   "outputs": [],
   "source": [
    "rcc_tc[\"presencia_rcc\"]=1"
   ]
  },
  {
   "cell_type": "code",
   "execution_count": 41,
   "metadata": {},
   "outputs": [],
   "source": [
    "gc.collect()\n",
    "train = train.reset_index()\n",
    "train = train.join(rcc_tc, on=[\"id_persona\", \"codmes\"])\n",
    "gc.collect()\n",
    "test = test.reset_index()\n",
    "test = test.join(rcc_tc, on=[\"id_persona\", \"codmes\"])\n",
    "\n",
    "train = train.reset_index().set_index(\"prediction_id\").astype(\"float32\")\n",
    "test = test.reset_index().set_index(\"prediction_id\").astype(\"float32\")\n",
    "del rcc_mto,rcc_nro_producto,rcc_producto,rcc_rango_mora,rcc_rango_mto_saldo,rcc_tc,rcc_banco"
   ]
  },
  {
   "cell_type": "code",
   "execution_count": 47,
   "metadata": {},
   "outputs": [],
   "source": [
    "train[\"presencia_rcc\"]=train[\"presencia_rcc\"].fillna(0)\n",
    "test[\"presencia_rcc\"]=test[\"presencia_rcc\"].fillna(0)"
   ]
  },
  {
   "cell_type": "code",
   "execution_count": 48,
   "metadata": {},
   "outputs": [
    {
     "data": {
      "text/plain": [
       "((212665, 1072), (178685, 1069))"
      ]
     },
     "execution_count": 48,
     "metadata": {},
     "output_type": "execute_result"
    }
   ],
   "source": [
    "train.shape, test.shape"
   ]
  },
  {
   "cell_type": "code",
   "execution_count": 49,
   "metadata": {
    "scrolled": false
   },
   "outputs": [
    {
     "data": {
      "text/plain": [
       "['Adquisición Convenios',\n",
       " 'Adquisición TC',\n",
       " 'Alcancía',\n",
       " 'CD Préstamos',\n",
       " 'Crédito Hipotecario',\n",
       " 'Crédito Vehicular',\n",
       " 'Depósito a Plazo',\n",
       " 'Préstamo Express',\n",
       " 'Préstamos Personales',\n",
       " 'Préstamos Reenganche',\n",
       " 'LIMA MOTORÂ´S_v1',\n",
       " 'VICTORIA MOTORÂ´S_v1',\n",
       " 'VILMENÂ¨S_v1',\n",
       " 'LIMA MOTORÂ´S_v2',\n",
       " 'VICTORIA MOTORÂ´S_v2',\n",
       " 'VILMENÂ¨S_v2']"
      ]
     },
     "execution_count": 49,
     "metadata": {},
     "output_type": "execute_result"
    }
   ],
   "source": [
    "non_ascii = train.columns[[not all(ord(c) < 128 for c in s) for s in train.columns]].tolist()\n",
    "non_ascii"
   ]
  },
  {
   "cell_type": "code",
   "execution_count": 50,
   "metadata": {},
   "outputs": [],
   "source": [
    "for i, c in enumerate(non_ascii):\n",
    "    train[\"non_ascii_\" + str(i)] = train[c]\n",
    "    train = train.drop(c, axis= 1)\n",
    "    test[\"non_ascii_\" + str(i)] = test[c]\n",
    "    test = test.drop(c, axis= 1)"
   ]
  },
  {
   "cell_type": "code",
   "execution_count": 51,
   "metadata": {},
   "outputs": [],
   "source": [
    "train = train.drop(\"index\",axis=1)\n",
    "test = test.drop(\"index\",axis=1)"
   ]
  },
  {
   "cell_type": "code",
   "execution_count": 52,
   "metadata": {
    "scrolled": true
   },
   "outputs": [],
   "source": [
    "train.id_persona=train.id_persona.astype(\"int32\")\n",
    "train.codmes=train.codmes.astype(\"int32\")\n",
    "test.id_persona=test.id_persona.astype(\"int32\")\n",
    "test.codmes=test.codmes.astype(\"int32\")\n",
    "train.cluster=train.cluster.fillna(0)\n",
    "test.cluster=test.cluster.fillna(0)"
   ]
  }
 ],
 "metadata": {
  "kernelspec": {
   "display_name": "Python 3",
   "language": "python",
   "name": "python3"
  },
  "language_info": {
   "codemirror_mode": {
    "name": "ipython",
    "version": 3
   },
   "file_extension": ".py",
   "mimetype": "text/x-python",
   "name": "python",
   "nbconvert_exporter": "python",
   "pygments_lexer": "ipython3",
   "version": "3.7.1"
  }
 },
 "nbformat": 4,
 "nbformat_minor": 2
}
